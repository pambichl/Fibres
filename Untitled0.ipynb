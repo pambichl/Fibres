{
 "metadata": {
  "name": "",
  "signature": "sha256:c1069ee7d491f4e67a312f787d0e63ab9bb2f2b9106d719e04faab7dd9d66f93"
 },
 "nbformat": 3,
 "nbformat_minor": 0,
 "worksheets": []
}