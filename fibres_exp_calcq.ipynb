{
 "metadata": {
  "name": "",
  "signature": "sha256:c4ca7594744259552987a5a67b833587c0e1baca250da655b238b8e7a94d4d58"
 },
 "nbformat": 3,
 "nbformat_minor": 0,
 "worksheets": [
  {
   "cells": [
    {
     "cell_type": "code",
     "collapsed": false,
     "input": [
      "import numpy as np\n",
      "from Utils import data_process_utils as dpu\n",
      "%pylab inline"
     ],
     "language": "python",
     "metadata": {},
     "outputs": [
      {
       "output_type": "stream",
       "stream": "stdout",
       "text": [
        "Populating the interactive namespace from numpy and matplotlib\n"
       ]
      }
     ],
     "prompt_number": 1
    },
    {
     "cell_type": "code",
     "collapsed": false,
     "input": [
      "file_mat = '0923_126lambda_208k'\n",
      "file_mat = '0925_101lambda_256k'\n",
      "file_dir = '/home/ambichl/Universitaet/Fibres-Hui/Experiments/Data-Numerics/' + file_mat + '/'"
     ],
     "language": "python",
     "metadata": {},
     "outputs": [],
     "prompt_number": 2
    },
    {
     "cell_type": "code",
     "collapsed": false,
     "input": [
      "t = np.load(file_dir + file_mat + '_filter.npy')\n",
      "N_x, N_k, N_l = np.shape(t)"
     ],
     "language": "python",
     "metadata": {},
     "outputs": [],
     "prompt_number": 3
    },
    {
     "cell_type": "code",
     "collapsed": false,
     "input": [
      "n_x = np.sqrt(N_x)\n",
      "pic_shape = (n_x, n_x)"
     ],
     "language": "python",
     "metadata": {},
     "outputs": [],
     "prompt_number": 4
    },
    {
     "cell_type": "code",
     "collapsed": false,
     "input": [
      "lambdas = np.load(file_dir + file_mat + '_wavelength.npy')\n",
      "dl = lambdas[1] - lambdas[0]\n",
      "indx_0 = int(np.floor(N_l / 2))"
     ],
     "language": "python",
     "metadata": {},
     "outputs": [],
     "prompt_number": 5
    },
    {
     "cell_type": "code",
     "collapsed": false,
     "input": [
      "#print \"Cutting away dark pixels\"\n",
      "#int_mean = np.mean(np.abs(t)**2, axis=(1,2))\n",
      "#av_int_mean = np.mean(int_mean)\n",
      "#dark_mask = int_mean < 0.05 * av_int_mean\n",
      "#pcolor(np.reshape(int_mean, pic_shape))\n",
      "#show()\n",
      "\n",
      "#int_mean[dark_mask] = 0.0\n",
      "#pcolor(np.reshape(int_mean, pic_shape))"
     ],
     "language": "python",
     "metadata": {},
     "outputs": [],
     "prompt_number": 6
    },
    {
     "cell_type": "code",
     "collapsed": false,
     "input": [
      "#t[dark_mask,:,:] = 0.0 ### no cutting atm"
     ],
     "language": "python",
     "metadata": {},
     "outputs": [],
     "prompt_number": 7
    },
    {
     "cell_type": "code",
     "collapsed": false,
     "input": [
      "t_0 = t[:,:,indx_0]\n",
      "U, S, V = np.linalg.svd(t_0)\n",
      "V = V.conj().T\n",
      "print np.shape(U), np.shape(S), np.shape(V)"
     ],
     "language": "python",
     "metadata": {},
     "outputs": [
      {
       "output_type": "stream",
       "stream": "stdout",
       "text": [
        "(10000, 10000) (256,) (256, 256)\n"
       ]
      }
     ],
     "prompt_number": 8
    },
    {
     "cell_type": "code",
     "collapsed": false,
     "input": [
      "sv_threshold = 0.10\n",
      "s = S[S / S[0] > sv_threshold]\n",
      "N_s = np.min(np.shape(s))\n",
      "print \"number of channels considered: \", N_s\n",
      "\n",
      "ylim(0.0, 1.0)\n",
      "plot(np.arange(len(S)), S / S[0], 'o-b', lw=1.0)\n",
      "plot(np.arange(len(s)), s / s[0], 'o-r', lw=1.5)"
     ],
     "language": "python",
     "metadata": {},
     "outputs": [
      {
       "output_type": "stream",
       "stream": "stdout",
       "text": [
        "number of channels considered:  125\n"
       ]
      },
      {
       "metadata": {},
       "output_type": "pyout",
       "prompt_number": 9,
       "text": [
        "[<matplotlib.lines.Line2D at 0x4594ed0>]"
       ]
      },
      {
       "metadata": {},
       "output_type": "display_data",
       "png": "[encoded data removed]",
       "text": [
        "<matplotlib.figure.Figure at 0x4579950>"
       ]
      }
     ],
     "prompt_number": 9
    },
    {
     "cell_type": "code",
     "collapsed": false,
     "input": [
      "u = U[:,:N_s]\n",
      "v = V[:,:N_s]    \n",
      "np.save(file_dir + file_mat + '_singmats', (u,v))"
     ],
     "language": "python",
     "metadata": {},
     "outputs": [],
     "prompt_number": 10
    },
    {
     "cell_type": "code",
     "collapsed": false,
     "input": [
      "g_proj_1 = np.einsum('xn,xkl->nkl', u.conj(), t[:,:,indx_0-1:indx_0+2])\n",
      "print np.shape(g_proj_1)\n",
      "g = np.einsum('nkl,km->nml', g_proj_1, v)\n",
      "print np.shape(g) "
     ],
     "language": "python",
     "metadata": {},
     "outputs": [
      {
       "output_type": "stream",
       "stream": "stdout",
       "text": [
        "(125, 256, 3)\n",
        "(125, 125, 3)"
       ]
      },
      {
       "output_type": "stream",
       "stream": "stdout",
       "text": [
        "\n"
       ]
      }
     ],
     "prompt_number": 11
    },
    {
     "cell_type": "heading",
     "level": 3,
     "metadata": {},
     "source": [
      "Tikhonov / pseudo inverse"
     ]
    },
    {
     "cell_type": "code",
     "collapsed": false,
     "input": [
      "#t_inv = np.linalg.inv(t_0.conj().T.dot(t_0) + 0.0 * np.eye(N_k)).dot(t_0.T)\n",
      "#dt = (t[:,:,indx_0-1]-t[:,:,indx_0+1]) / (2.0 * dl)\n",
      "#dt *= (-lambdas[indx_0]**2 / (2.0 * np.pi))\n",
      "\n",
      "#q = -1.0j * t_inv.dot(dt)\n",
      "#print np.shape(q)"
     ],
     "language": "python",
     "metadata": {},
     "outputs": [],
     "prompt_number": 12
    },
    {
     "cell_type": "code",
     "collapsed": false,
     "input": [
      "dg = (g[:,:,2] - g[:,:,0]) / (2.0 * dl) * (-lambdas[indx_0]**2 / (2.0 * np.pi))\n",
      "gi = np.linalg.inv(g[:,:,1])\n",
      "\n",
      "q = -1.0j * v.dot(gi).dot(dg).dot(v.conj().T)\n",
      "#q = -1.0j * v.dot(gi).dot(u.conj().T).dot(dg).dot(v.conj().T)\n",
      "print np.shape(q)\n",
      "print \"Saving q-operator\"\n",
      "np.save(file_dir + file_mat + '_q', q)"
     ],
     "language": "python",
     "metadata": {},
     "outputs": [
      {
       "output_type": "stream",
       "stream": "stdout",
       "text": [
        "(256, 256)\n",
        "Saving q-operator\n"
       ]
      }
     ],
     "prompt_number": 13
    }
   ],
   "metadata": {}
  }
 ]
}