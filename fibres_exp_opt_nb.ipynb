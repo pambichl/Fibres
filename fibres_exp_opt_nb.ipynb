{
 "metadata": {
  "name": "",
  "signature": "sha256:4106930809ae7299562a707486393fcd8f0d3e273b0b365153b7da47d5a45dda"
 },
 "nbformat": 3,
 "nbformat_minor": 0,
 "worksheets": [
  {
   "cells": [
    {
     "cell_type": "code",
     "collapsed": false,
     "input": [
      "import numpy as np\n",
      "from Utils import data_process_utils as dpu\n",
      "from Utils import exp_opt_utilsMEM as eou\n",
      "%pylab inline\n",
      "\n",
      "import copy\n",
      "import os"
     ],
     "language": "python",
     "metadata": {},
     "outputs": [
      {
       "output_type": "stream",
       "stream": "stdout",
       "text": [
        "Populating the interactive namespace from numpy and matplotlib\n"
       ]
      },
      {
       "output_type": "stream",
       "stream": "stderr",
       "text": [
        "WARNING: pylab import has clobbered these variables: ['copy']\n",
        "`%matplotlib` prevents importing * from pylab and numpy\n"
       ]
      }
     ],
     "prompt_number": 59
    },
    {
     "cell_type": "code",
     "collapsed": false,
     "input": [
      "reload(eou)"
     ],
     "language": "python",
     "metadata": {},
     "outputs": [
      {
       "metadata": {},
       "output_type": "pyout",
       "prompt_number": 60,
       "text": [
        "<module 'Utils.exp_opt_utilsMEM' from 'Utils/exp_opt_utilsMEM.pyc'>"
       ]
      }
     ],
     "prompt_number": 60
    },
    {
     "cell_type": "code",
     "collapsed": false,
     "input": [
      "#file_mat = '0923_126lambda_208k'\n",
      "#file_mat = '0925_101lambda_256k'\n",
      "\n",
      "#file_dir = '../Data-Numerics/' + file_mat + '/'\n",
      "\n",
      "file_mat = '151k_16m_30s'\n",
      "#file_mat = '301k_16m_30s'\n",
      "#file_mat = '601k_16m_30s'\n",
      "#file_mat = '1201k_16m_30s'\n",
      "\n",
      "file_dir = '../Data-Random/' + file_mat + '/'\n",
      "\n",
      "### optimization parameters ###\n",
      "nloop = 50000\n",
      "s_rat = 0.030\n",
      "t0 = 0.0\n",
      "ds0 = 1e-3\n",
      "load_mat = True\n",
      "cost = 1\n",
      "sprex = 0.8\n",
      "\n",
      "file_out = file_dir + \"cost=%i/\" % cost + file_mat + \"_%.3f\" % s_rat"
     ],
     "language": "python",
     "metadata": {},
     "outputs": [],
     "prompt_number": 61
    },
    {
     "cell_type": "code",
     "collapsed": false,
     "input": [
      "t = np.load(file_dir + file_mat + '_filter.npy')\n",
      "#t = np.load(file_dir + file_mat + '_projection.npy')\n",
      "N_x, N_k, N_l = np.shape(t)\n",
      "print N_x, N_k, N_l"
     ],
     "language": "python",
     "metadata": {},
     "outputs": [
      {
       "output_type": "stream",
       "stream": "stdout",
       "text": [
        "16 16 151\n"
       ]
      }
     ],
     "prompt_number": 62
    },
    {
     "cell_type": "code",
     "collapsed": false,
     "input": [
      "n_x = np.sqrt(N_x)\n",
      "pic_shape = (n_x, n_x)"
     ],
     "language": "python",
     "metadata": {},
     "outputs": [],
     "prompt_number": 63
    },
    {
     "cell_type": "code",
     "collapsed": false,
     "input": [
      "lambdas = np.load(file_dir + file_mat + '_wavelength.npy')\n",
      "l_range = lambdas[-1] - lambdas[0]\n",
      "dl = lambdas[1] - lambdas[0]\n",
      "N_l = np.shape(lambdas)[0]\n",
      "indx_0 = int(np.floor(N_l / 2))\n",
      "lambda_0 = lambdas[indx_0]\n",
      "\n",
      "dl_FT = 2.0 * np.pi / l_range\n",
      "lambdas_FT = np.arange(0,N_l) * dl_FT\n",
      "\n",
      "s = s_rat * l_range"
     ],
     "language": "python",
     "metadata": {},
     "outputs": [],
     "prompt_number": 64
    },
    {
     "cell_type": "code",
     "collapsed": false,
     "input": [
      "phi = eou.calc_phi_gauss(lambdas, lambda_0, t0, s)\n",
      "#phi = eou.calc_phi_fermi(lambdas - lambda_0, (s, 0.020 * l_range))\n",
      "plt.plot(lambdas, np.abs(phi)**2, 'o-r')\n",
      "plt.savefig(file_out + '_opt_envelope.png')\n",
      "plt.clf()\n",
      "\n",
      "if (os.path.isfile(file_dir + file_mat + '_randsCorr.npy')): \n",
      "    rand_corr = np.load(file_dir + file_mat + '_randsCorr.npy')\n",
      "    rand_corr_mean = np.mean(rand_corr, axis=0)\n",
      "    \n",
      "    plot(rand_corr_mean / np.max(rand_corr_mean))\n",
      "    plot(np.abs(phi)**2 / np.max(np.abs(phi)**2))\n",
      "    show()\n",
      "    \n",
      "else:\n",
      "    print \"Mean correlations file not found\""
     ],
     "language": "python",
     "metadata": {},
     "outputs": [
      {
       "metadata": {},
       "output_type": "display_data",
       "png": "[encoded data removed]",
       "text": [
        "<matplotlib.figure.Figure at 0x3c3ef10>"
       ]
      }
     ],
     "prompt_number": 85
    },
    {
     "cell_type": "code",
     "collapsed": false,
     "input": [
      "u, v = np.load(file_dir + file_mat + '_singmats.npy')\n",
      "q = np.load(file_dir + file_mat + '_q.npy')\n",
      "N_s = np.shape(v)[1]"
     ],
     "language": "python",
     "metadata": {},
     "outputs": [],
     "prompt_number": 66
    },
    {
     "cell_type": "code",
     "collapsed": false,
     "input": [
      "times, PM_in = np.linalg.eig(q)\n",
      "time_order = np.argsort(np.real(times))\n",
      "times = times[time_order]\n",
      "PM_in = PM_in[:,time_order]\n",
      "PM_in = PM_in.T\n",
      "\n",
      "indx_non_zero = np.where(np.abs(times) > 1e-8)[0]\n",
      "\n",
      "times = times[indx_non_zero]\n",
      "PM_in = PM_in[indx_non_zero]\n",
      "\n",
      "nflux = np.shape(times)[0]\n",
      "print nflux\n",
      "\n",
      "print np.sum(np.abs(np.dot(PM_in.conj(), PM_in.T))) / N_k**2"
     ],
     "language": "python",
     "metadata": {},
     "outputs": [
      {
       "output_type": "stream",
       "stream": "stdout",
       "text": [
        "16\n",
        "0.116539000044\n"
       ]
      }
     ],
     "prompt_number": 67
    },
    {
     "cell_type": "code",
     "collapsed": false,
     "input": [
      "plot(np.arange(np.shape(times)[0]),np.real(times))"
     ],
     "language": "python",
     "metadata": {},
     "outputs": [
      {
       "metadata": {},
       "output_type": "pyout",
       "prompt_number": 68,
       "text": [
        "[<matplotlib.lines.Line2D at 0x45709d0>]"
       ]
      },
      {
       "metadata": {},
       "output_type": "display_data",
       "png": "[encoded data removed]",
       "text": [
        "<matplotlib.figure.Figure at 0x3f69250>"
       ]
      }
     ],
     "prompt_number": 68
    },
    {
     "cell_type": "heading",
     "level": 3,
     "metadata": {},
     "source": [
      "Weighting function for spatial average"
     ]
    },
    {
     "cell_type": "code",
     "collapsed": false,
     "input": [
      "#weights = np.sum(np.abs(t)**2, axis=(1,2))\n",
      "#weights /= np.sum(weights)\n",
      "#np.save(file_dir + '_weights', weights)\n",
      "#weights = np.load(file_dir + '_weights.npy')\n",
      "#plt.pcolor(np.reshape(weights, pic_shape))\n",
      "#show()\n",
      "\n",
      "#weights = np.sum(np.abs(u)**2, axis=1)\n",
      "#weights /= np.sum(weights)\n",
      "#plt.pcolor(np.reshape(weights, pic_shape))\n",
      "#show()\n",
      "\n",
      "weights = np.ones(np.shape(t)[0])\n",
      "weights /= np.sum(weights)\n",
      "#plt.pcolor(np.reshape(weights, pic_shape))\n",
      "#show()"
     ],
     "language": "python",
     "metadata": {},
     "outputs": [],
     "prompt_number": 69
    },
    {
     "cell_type": "heading",
     "level": 3,
     "metadata": {},
     "source": [
      "Standard deviation"
     ]
    },
    {
     "cell_type": "code",
     "collapsed": false,
     "input": [
      "def calc_std(vec, vals):\n",
      "    dist = np.abs(vec)\n",
      "    t0 = np.einsum('i,i', vals**0, dist)\n",
      "    t1 = np.einsum('i,i', vals**1, dist)\n",
      "    t2 = np.einsum('i,i', vals**2, dist)\n",
      "    \n",
      "    return np.sqrt(t2/t0 - (t1/t0)**2)\n",
      "\n",
      "def calc_std_field(vec, vals):\n",
      "    dist = np.abs(vec)**2\n",
      "    t0 = np.einsum('i,i', vals**0, dist)\n",
      "    t1 = np.einsum('i,i', vals**1, dist)\n",
      "    t2 = np.einsum('i,i', vals**2, dist)\n",
      "    \n",
      "    return np.sqrt(t2/t0 - (t1/t0)**2)"
     ],
     "language": "python",
     "metadata": {},
     "outputs": [],
     "prompt_number": 70
    },
    {
     "cell_type": "heading",
     "level": 3,
     "metadata": {},
     "source": [
      "Auto correlation"
     ]
    },
    {
     "cell_type": "code",
     "collapsed": false,
     "input": [
      "def calc_autocorr(vec, lambdas, env):\n",
      "    vec_pulse = np.einsum('xl,l->xl', vec, env)\n",
      "    vec_FT = np.fft.fftshift(np.fft.fft(vec_pulse, axis=-1), axes=-1)\n",
      "    lambdas = np.load(file_dir + file_mat + '_wavelength.npy')\n",
      "    l_range = lambdas[-1] - lambdas[0]\n",
      "    N_l = np.shape(lambdas)[0]\n",
      "\n",
      "    dl_FT = 2.0 * np.pi / l_range\n",
      "    lambdas_FT = np.arange(0,N_l) * dl_FT\n",
      "    \n",
      "    pulse_FT = np.sum(np.abs(vec_FT)**2, axis=0)\n",
      "    std_FT = calc_std(pulse_FT, lambdas_FT)\n",
      "\n",
      "    corr = np.fft.ifftshift(np.fft.ifft(pulse_FT, axis=-1), axes=-1)\n",
      "\n",
      "    std_corr = calc_std(corr, lambdas)\n",
      "    \n",
      "    return pulse_FT, std_FT, corr, std_corr "
     ],
     "language": "python",
     "metadata": {},
     "outputs": [],
     "prompt_number": 71
    },
    {
     "cell_type": "heading",
     "level": 3,
     "metadata": {},
     "source": [
      "Optimization"
     ]
    },
    {
     "cell_type": "code",
     "collapsed": false,
     "input": [
      "print \"Initializing cost function\"\n",
      "F = eou.Functional(phi, t, lambdas, lambda_0, weights, file_out, load_mat, cost)\n",
      "if (cost == 1):\n",
      "    L = F.L_long\n",
      "    G = F.G_long\n",
      "if (cost == 2):\n",
      "    L = F.L_trans\n",
      "    G = F.G_trans\n",
      "if (cost == 3):\n",
      "    L = F.L_long_FT\n",
      "    G = F.G_long_FT\n",
      "if (cost == 4):\n",
      "    L = F.L_long_Abs\n",
      "    G = F.G_long_Abs\n",
      "    \n",
      "# initial guess\n",
      "phat_rand = (np.random.random(size=(N_k)) - 0.5) - 1.0j * (np.random.random(size=(N_k)) - 0.5)\n",
      "phat_PM = PM_in[0]\n",
      "\n",
      "#phat = np.load(file_out+'_opt_input.npy')\n",
      "phat = phat_PM\n",
      "#phat = phat_rand\n",
      "#phat = phat_min\n",
      "\n",
      "print \"Minimizing functional\"\n",
      "phat_min = eou.optimize(L, G, phat, ds0, nloop)\n"
     ],
     "language": "python",
     "metadata": {},
     "outputs": [
      {
       "output_type": "stream",
       "stream": "stdout",
       "text": [
        "Initializing cost function\n",
        "Loading cost function matrices\n",
        "Minimizing functional\n",
        "step:     0 of 50000 gradient: 16.390065 11.059915\r",
        "\r",
        "step:     1 of 50000 gradient: 16.1470597551 10.9116314146"
       ]
      },
      {
       "output_type": "stream",
       "stream": "stdout",
       "text": [
        " \r",
        "step:    51 of 50000 gradient: 10.8258301550 4.1959012560"
       ]
      },
      {
       "output_type": "stream",
       "stream": "stdout",
       "text": [
        " \r",
        "step:   101 of 50000 gradient: 9.8093800593 2.3902388561"
       ]
      },
      {
       "output_type": "stream",
       "stream": "stdout",
       "text": [
        " \r",
        "step:   151 of 50000 gradient: 9.4162946170 1.6360423415"
       ]
      },
      {
       "output_type": "stream",
       "stream": "stdout",
       "text": [
        " \r",
        "step:   201 of 50000 gradient: 9.2112105727 1.2552787753"
       ]
      },
      {
       "output_type": "stream",
       "stream": "stdout",
       "text": [
        " \r",
        "step:   251 of 50000 gradient: 9.0805306079 1.0456836449"
       ]
      },
      {
       "output_type": "stream",
       "stream": "stdout",
       "text": [
        " \r",
        "step:   301 of 50000 gradient: 8.9841188475 0.9267314513"
       ]
      },
      {
       "output_type": "stream",
       "stream": "stdout",
       "text": [
        " \r",
        "step:   351 of 50000 gradient: 8.9049385069 0.8578241674"
       ]
      },
      {
       "output_type": "stream",
       "stream": "stdout",
       "text": [
        " \r",
        "step:   401 of 50000 gradient: 8.8351328593 0.8156838106"
       ]
      },
      {
       "output_type": "stream",
       "stream": "stdout",
       "text": [
        " \r",
        "step:   451 of 50000 gradient: 8.7710176783 0.7868215747"
       ]
      },
      {
       "output_type": "stream",
       "stream": "stdout",
       "text": [
        " \r",
        "step:   501 of 50000 gradient: 8.7109409626 0.7635761893"
       ]
      },
      {
       "output_type": "stream",
       "stream": "stdout",
       "text": [
        " \r",
        "step:   551 of 50000 gradient: 8.6542736227 0.7417028191"
       ]
      },
      {
       "output_type": "stream",
       "stream": "stdout",
       "text": [
        " \r",
        "step:   601 of 50000 gradient: 8.6008949272 0.7189692935"
       ]
      },
      {
       "output_type": "stream",
       "stream": "stdout",
       "text": [
        " \r",
        "step:   651 of 50000 gradient: 8.5509099270 0.6943640290"
       ]
      },
      {
       "output_type": "stream",
       "stream": "stdout",
       "text": [
        " \r",
        "step:   701 of 50000 gradient: 8.5044861502 0.6676345199"
       ]
      },
      {
       "output_type": "stream",
       "stream": "stdout",
       "text": [
        " \r",
        "step:   751 of 50000 gradient: 8.4617600404 0.6389949383"
       ]
      },
      {
       "output_type": "stream",
       "stream": "stdout",
       "text": [
        " \r",
        "step:   801 of 50000 gradient: 8.4227893062 0.6089241182"
       ]
      },
      {
       "output_type": "stream",
       "stream": "stdout",
       "text": [
        " \r",
        "step:   851 of 50000 gradient: 8.3875369328 0.5780201170"
       ]
      },
      {
       "output_type": "stream",
       "stream": "stdout",
       "text": [
        " \r",
        "step:   901 of 50000 gradient: 8.3558760874 0.5468974576"
       ]
      },
      {
       "output_type": "stream",
       "stream": "stdout",
       "text": [
        " \r",
        "step:   951 of 50000 gradient: 8.3276070138 0.5161197649"
       ]
      },
      {
       "output_type": "stream",
       "stream": "stdout",
       "text": [
        " \r",
        "step:  1001 of 50000 gradient: 8.3024788765 0.4861615122"
       ]
      },
      {
       "output_type": "stream",
       "stream": "stdout",
       "text": [
        " \r",
        "step:  1051 of 50000 gradient: 8.2802115978 0.4573921924"
       ]
      },
      {
       "output_type": "stream",
       "stream": "stdout",
       "text": [
        " \r",
        "step:  1101 of 50000 gradient: 8.2605147447 0.4300761922"
       ]
      },
      {
       "output_type": "stream",
       "stream": "stdout",
       "text": [
        " \r",
        "step:  1151 of 50000 gradient: 8.2431021709 0.4043823687"
       ]
      },
      {
       "output_type": "stream",
       "stream": "stdout",
       "text": [
        " \r",
        "step:  1201 of 50000 gradient: 8.2277022615 0.3803985552"
       ]
      },
      {
       "output_type": "stream",
       "stream": "stdout",
       "text": [
        " \r",
        "step:  1251 of 50000 gradient: 8.2140642853 0.3581476092"
       ]
      },
      {
       "output_type": "stream",
       "stream": "stdout",
       "text": [
        " \r",
        "step:  1301 of 50000 gradient: 8.2019616427 0.3376028620"
       ]
      },
      {
       "output_type": "stream",
       "stream": "stdout",
       "text": [
        " \r",
        "step:  1351 of 50000 gradient: 8.1911928365 0.3187018121"
       ]
      },
      {
       "output_type": "stream",
       "stream": "stdout",
       "text": [
        " \r",
        "step:  1401 of 50000 gradient: 8.1815808999 0.3013575915"
       ]
      },
      {
       "output_type": "stream",
       "stream": "stdout",
       "text": [
        " \r",
        "step:  1451 of 50000 gradient: 8.1729718699 0.2854681610"
       ]
      },
      {
       "output_type": "stream",
       "stream": "stdout",
       "text": [
        " \r",
        "step:  1501 of 50000 gradient: 8.1652327428 0.2709234277"
       ]
      },
      {
       "output_type": "stream",
       "stream": "stdout",
       "text": [
        " \r",
        "step:  1551 of 50000 gradient: 8.1582492191 0.2576105811"
       ]
      },
      {
       "output_type": "stream",
       "stream": "stdout",
       "text": [
        " \r",
        "step:  1601 of 50000 gradient: 8.1519234358 0.2454179674"
       ]
      },
      {
       "output_type": "stream",
       "stream": "stdout",
       "text": [
        " \r",
        "step:  1651 of 50000 gradient: 8.1461718087 0.2342378022"
       ]
      },
      {
       "output_type": "stream",
       "stream": "stdout",
       "text": [
        " \r",
        "step:  1701 of 50000 gradient: 8.1409230518 0.2239679816"
       ]
      },
      {
       "output_type": "stream",
       "stream": "stdout",
       "text": [
        " \r",
        "step:  1751 of 50000 gradient: 8.1361164021 0.2145132068"
       ]
      },
      {
       "output_type": "stream",
       "stream": "stdout",
       "text": [
        " \r",
        "step:  1801 of 50000 gradient: 8.1317000571 0.2057855954"
       ]
      },
      {
       "output_type": "stream",
       "stream": "stdout",
       "text": [
        " \r",
        "step:  1851 of 50000 gradient: 8.1276298161 0.1977049145"
       ]
      },
      {
       "output_type": "stream",
       "stream": "stdout",
       "text": [
        " \r",
        "step:  1901 of 50000 gradient: 8.1238679099 0.1901985410"
       ]
      },
      {
       "output_type": "stream",
       "stream": "stdout",
       "text": [
        " \r",
        "step:  1951 of 50000 gradient: 8.1203820000 0.1832012303"
       ]
      },
      {
       "output_type": "stream",
       "stream": "stdout",
       "text": [
        " \r",
        "step:  2001 of 50000 gradient: 8.1171443276 0.1766547544"
       ]
      },
      {
       "output_type": "stream",
       "stream": "stdout",
       "text": [
        " \r",
        "step:  2051 of 50000 gradient: 8.1141309913 0.1705074571"
       ]
      },
      {
       "output_type": "stream",
       "stream": "stdout",
       "text": [
        " \r",
        "step:  2101 of 50000 gradient: 8.1113213379 0.1647137608"
       ]
      },
      {
       "output_type": "stream",
       "stream": "stdout",
       "text": [
        " \r",
        "step:  2151 of 50000 gradient: 8.1086974487 0.1592336516"
       ]
      },
      {
       "output_type": "stream",
       "stream": "stdout",
       "text": [
        " \r",
        "step:  2201 of 50000 gradient: 8.1062437073 0.1540321629"
       ]
      },
      {
       "output_type": "stream",
       "stream": "stdout",
       "text": [
        " \r",
        "step:  2251 of 50000 gradient: 8.1039464364 0.1490788697"
       ]
      },
      {
       "output_type": "stream",
       "stream": "stdout",
       "text": [
        " \r",
        "step:  2301 of 50000 gradient: 8.1017935942 0.1443474052"
       ]
      },
      {
       "output_type": "stream",
       "stream": "stdout",
       "text": [
        " \r",
        "step:  2351 of 50000 gradient: 8.0997745191 0.1398150048"
       ]
      },
      {
       "output_type": "stream",
       "stream": "stdout",
       "text": [
        " \r",
        "step:  2401 of 50000 gradient: 8.0978797165 0.1354620825"
       ]
      },
      {
       "output_type": "stream",
       "stream": "stdout",
       "text": [
        " \r",
        "step:  2451 of 50000 gradient: 8.0961006813 0.1312718413"
       ]
      },
      {
       "output_type": "stream",
       "stream": "stdout",
       "text": [
        " \r",
        "step:  2501 of 50000 gradient: 8.0944297493 0.1272299174"
       ]
      },
      {
       "output_type": "stream",
       "stream": "stdout",
       "text": [
        " \r",
        "step:  2551 of 50000 gradient: 8.0928599730 0.1233240597"
       ]
      },
      {
       "output_type": "stream",
       "stream": "stdout",
       "text": [
        " \r",
        "step:  2601 of 50000 gradient: 8.0913850192 0.1195438416"
       ]
      },
      {
       "output_type": "stream",
       "stream": "stdout",
       "text": [
        " \r",
        "step:  2651 of 50000 gradient: 8.0899990830 0.1158804039"
       ]
      },
      {
       "output_type": "stream",
       "stream": "stdout",
       "text": [
        " \r",
        "step:  2701 of 50000 gradient: 8.0886968168 0.1123262276"
       ]
      },
      {
       "output_type": "stream",
       "stream": "stdout",
       "text": [
        " \r",
        "step:  2751 of 50000 gradient: 8.0874732713 0.1088749332"
       ]
      },
      {
       "output_type": "stream",
       "stream": "stdout",
       "text": [
        " \r",
        "step:  2801 of 50000 gradient: 8.0863238463 0.1055211050"
       ]
      },
      {
       "output_type": "stream",
       "stream": "stdout",
       "text": [
        " \r",
        "step:  2851 of 50000 gradient: 8.0852442499 0.1022601380"
       ]
      },
      {
       "output_type": "stream",
       "stream": "stdout",
       "text": [
        " \r",
        "step:  2901 of 50000 gradient: 8.0842304651 0.0990881046"
       ]
      },
      {
       "output_type": "stream",
       "stream": "stdout",
       "text": [
        " \r",
        "step:  2951 of 50000 gradient: 8.0832787210 0.0960016405"
       ]
      },
      {
       "output_type": "stream",
       "stream": "stdout",
       "text": [
        " \r",
        "step:  3001 of 50000 gradient: 8.0823854699 0.0929978454"
       ]
      },
      {
       "output_type": "stream",
       "stream": "stdout",
       "text": [
        " \r",
        "step:  3051 of 50000 gradient: 8.0815473672 0.0900741996"
       ]
      },
      {
       "output_type": "stream",
       "stream": "stdout",
       "text": [
        " \r",
        "step:  3101 of 50000 gradient: 8.0807612550 0.0872284917"
       ]
      },
      {
       "output_type": "stream",
       "stream": "stdout",
       "text": [
        " \r",
        "step:  3151 of 50000 gradient: 8.0800241479 0.0844587588"
       ]
      },
      {
       "output_type": "stream",
       "stream": "stdout",
       "text": [
        " \r",
        "step:  3201 of 50000 gradient: 8.0793332211 0.0817632352"
       ]
      },
      {
       "output_type": "stream",
       "stream": "stdout",
       "text": [
        " \r",
        "step:  3251 of 50000 gradient: 8.0786858003 0.0791403105"
       ]
      },
      {
       "output_type": "stream",
       "stream": "stdout",
       "text": [
        " \r",
        "step:  3301 of 50000 gradient: 8.0780793522 0.0765884942"
       ]
      },
      {
       "output_type": "stream",
       "stream": "stdout",
       "text": [
        " \r",
        "step:  3351 of 50000 gradient: 8.0775114768 0.0741063869"
       ]
      },
      {
       "output_type": "stream",
       "stream": "stdout",
       "text": [
        " \r",
        "step:  3401 of 50000 gradient: 8.0769799005 0.0716926572"
       ]
      },
      {
       "output_type": "stream",
       "stream": "stdout",
       "text": [
        " \r",
        "step:  3451 of 50000 gradient: 8.0764824695 0.0693460224"
       ]
      },
      {
       "output_type": "stream",
       "stream": "stdout",
       "text": [
        " \r",
        "step:  3501 of 50000 gradient: 8.0760171440 0.0670652336"
       ]
      },
      {
       "output_type": "stream",
       "stream": "stdout",
       "text": [
        " \r",
        "step:  3551 of 50000 gradient: 8.0755819927 0.0648490642"
       ]
      },
      {
       "output_type": "stream",
       "stream": "stdout",
       "text": [
        " \r",
        "step:  3601 of 50000 gradient: 8.0751751880 0.0626963007"
       ]
      },
      {
       "output_type": "stream",
       "stream": "stdout",
       "text": [
        " \r",
        "step:  3651 of 50000 gradient: 8.0747950012 0.0606057362"
       ]
      },
      {
       "output_type": "stream",
       "stream": "stdout",
       "text": [
        " \r",
        "step:  3701 of 50000 gradient: 8.0744397977 0.0585761653"
       ]
      },
      {
       "output_type": "stream",
       "stream": "stdout",
       "text": [
        " \r",
        "step:  3751 of 50000 gradient: 8.0741080333 0.0566063813"
       ]
      },
      {
       "output_type": "stream",
       "stream": "stdout",
       "text": [
        " \r",
        "step:  3801 of 50000 gradient: 8.0737982493 0.0546951736"
       ]
      },
      {
       "output_type": "stream",
       "stream": "stdout",
       "text": [
        " \r",
        "step:  3851 of 50000 gradient: 8.0735090694 0.0528413273"
       ]
      },
      {
       "output_type": "stream",
       "stream": "stdout",
       "text": [
        " \r",
        "step:  3901 of 50000 gradient: 8.0732391951 0.0510436227"
       ]
      },
      {
       "output_type": "stream",
       "stream": "stdout",
       "text": [
        " \r",
        "step:  3951 of 50000 gradient: 8.0729874024 0.0493008357"
       ]
      },
      {
       "output_type": "stream",
       "stream": "stdout",
       "text": [
        " \r",
        "step:  4001 of 50000 gradient: 8.0727525385 0.0476117391"
       ]
      },
      {
       "output_type": "stream",
       "stream": "stdout",
       "text": [
        " \r",
        "step:  4051 of 50000 gradient: 8.0725335176 0.0459751032"
       ]
      },
      {
       "output_type": "stream",
       "stream": "stdout",
       "text": [
        " \r",
        "step:  4101 of 50000 gradient: 8.0723293182 0.0443896980"
       ]
      },
      {
       "output_type": "stream",
       "stream": "stdout",
       "text": [
        " \r",
        "step:  4151 of 50000 gradient: 8.0721389796 0.0428542944"
       ]
      },
      {
       "output_type": "stream",
       "stream": "stdout",
       "text": [
        " \r",
        "step:  4201 of 50000 gradient: 8.0719615989 0.0413676662"
       ]
      },
      {
       "output_type": "stream",
       "stream": "stdout",
       "text": [
        " \r",
        "step:  4251 of 50000 gradient: 8.0717963279 0.0399285916"
       ]
      },
      {
       "output_type": "stream",
       "stream": "stdout",
       "text": [
        " \r",
        "step:  4301 of 50000 gradient: 8.0716423703 0.0385358555"
       ]
      },
      {
       "output_type": "stream",
       "stream": "stdout",
       "text": [
        " \r",
        "step:  4351 of 50000 gradient: 8.0714989787 0.0371882509"
       ]
      },
      {
       "output_type": "stream",
       "stream": "stdout",
       "text": [
        " \r",
        "step:  4401 of 50000 gradient: 8.0713654523 0.0358845805"
       ]
      },
      {
       "output_type": "stream",
       "stream": "stdout",
       "text": [
        " \r",
        "step:  4451 of 50000 gradient: 8.0712411341 0.0346236588"
       ]
      },
      {
       "output_type": "stream",
       "stream": "stdout",
       "text": [
        " \r",
        "step:  4501 of 50000 gradient: 8.0711254083 0.0334043129"
       ]
      },
      {
       "output_type": "stream",
       "stream": "stdout",
       "text": [
        " \r",
        "step:  4551 of 50000 gradient: 8.0710176984 0.0322253845"
       ]
      },
      {
       "output_type": "stream",
       "stream": "stdout",
       "text": [
        " \r",
        "step:  4601 of 50000 gradient: 8.0709174645 0.0310857311"
       ]
      },
      {
       "output_type": "stream",
       "stream": "stdout",
       "text": [
        " \r",
        "step:  4651 of 50000 gradient: 8.0708242014 0.0299842266"
       ]
      },
      {
       "output_type": "stream",
       "stream": "stdout",
       "text": [
        " \r",
        "step:  4701 of 50000 gradient: 8.0707374365 0.0289197631"
       ]
      },
      {
       "output_type": "stream",
       "stream": "stdout",
       "text": [
        " \r",
        "step:  4751 of 50000 gradient: 8.0706567280 0.0278912514"
       ]
      },
      {
       "output_type": "stream",
       "stream": "stdout",
       "text": [
        " \r",
        "step:  4801 of 50000 gradient: 8.0705816627 0.0268976218"
       ]
      },
      {
       "output_type": "stream",
       "stream": "stdout",
       "text": [
        " \r",
        "step:  4851 of 50000 gradient: 8.0705118547 0.0259378251"
       ]
      },
      {
       "output_type": "stream",
       "stream": "stdout",
       "text": [
        " \r",
        "step:  4901 of 50000 gradient: 8.0704469435 0.0250108327"
       ]
      },
      {
       "output_type": "stream",
       "stream": "stdout",
       "text": [
        " \r",
        "step:  4951 of 50000 gradient: 8.0703865924 0.0241156375"
       ]
      },
      {
       "output_type": "stream",
       "stream": "stdout",
       "text": [
        " \r",
        "step:  5001 of 50000 gradient: 8.0703304871 0.0232512543"
       ]
      },
      {
       "output_type": "stream",
       "stream": "stdout",
       "text": [
        " \r",
        "step:  5051 of 50000 gradient: 8.0702783343 0.0224167197"
       ]
      },
      {
       "output_type": "stream",
       "stream": "stdout",
       "text": [
        " \r",
        "step:  5101 of 50000 gradient: 8.0702298604 0.0216110929"
       ]
      },
      {
       "output_type": "stream",
       "stream": "stdout",
       "text": [
        " \r",
        "step:  5151 of 50000 gradient: 8.0701848101 0.0208334552"
       ]
      },
      {
       "output_type": "stream",
       "stream": "stdout",
       "text": [
        " \r",
        "step:  5201 of 50000 gradient: 8.0701429454 0.0200829108"
       ]
      },
      {
       "output_type": "stream",
       "stream": "stdout",
       "text": [
        " \r",
        "step:  5251 of 50000 gradient: 8.0701040444 0.0193585862"
       ]
      },
      {
       "output_type": "stream",
       "stream": "stdout",
       "text": [
        " \r",
        "step:  5301 of 50000 gradient: 8.0700679004 0.0186596303"
       ]
      },
      {
       "output_type": "stream",
       "stream": "stdout",
       "text": [
        " \r",
        "step:  5351 of 50000 gradient: 8.0700343205 0.0179852147"
       ]
      },
      {
       "output_type": "stream",
       "stream": "stdout",
       "text": [
        " \r",
        "step:  5401 of 50000 gradient: 8.0700031252 0.0173345330"
       ]
      },
      {
       "output_type": "stream",
       "stream": "stdout",
       "text": [
        " \r",
        "step:  5451 of 50000 gradient: 8.0699741473 0.0167068009"
       ]
      },
      {
       "output_type": "stream",
       "stream": "stdout",
       "text": [
        " \r",
        "step:  5501 of 50000 gradient: 8.0699472311 0.0161012559"
       ]
      },
      {
       "output_type": "stream",
       "stream": "stdout",
       "text": [
        " \r",
        "step:  5551 of 50000 gradient: 8.0699222315 0.0155171573"
       ]
      },
      {
       "output_type": "stream",
       "stream": "stdout",
       "text": [
        " \r",
        "step:  5601 of 50000 gradient: 8.0698990134 0.0149537852"
       ]
      },
      {
       "output_type": "stream",
       "stream": "stdout",
       "text": [
        " \r",
        "step:  5651 of 50000 gradient: 8.0698774514 0.0144104411"
       ]
      },
      {
       "output_type": "stream",
       "stream": "stdout",
       "text": [
        " \r",
        "step:  5701 of 50000 gradient: 8.0698574283 0.0138864469"
       ]
      },
      {
       "output_type": "stream",
       "stream": "stdout",
       "text": [
        " \r",
        "step:  5751 of 50000 gradient: 8.0698388354 0.0133811447"
       ]
      },
      {
       "output_type": "stream",
       "stream": "stdout",
       "text": [
        " \r",
        "step:  5801 of 50000 gradient: 8.0698215715 0.0128938965"
       ]
      },
      {
       "output_type": "stream",
       "stream": "stdout",
       "text": [
        " \r",
        "step:  5851 of 50000 gradient: 8.0698055423 0.0124240839"
       ]
      },
      {
       "output_type": "stream",
       "stream": "stdout",
       "text": [
        " \r",
        "step:  5901 of 50000 gradient: 8.0697906603 0.0119711074"
       ]
      },
      {
       "output_type": "stream",
       "stream": "stdout",
       "text": [
        " \r",
        "step:  5951 of 50000 gradient: 8.0697768440 0.0115343863"
       ]
      },
      {
       "output_type": "stream",
       "stream": "stdout",
       "text": [
        " \r",
        "step:  6001 of 50000 gradient: 8.0697640177 0.0111133579"
       ]
      },
      {
       "output_type": "stream",
       "stream": "stdout",
       "text": [
        " \r",
        "step:  6051 of 50000 gradient: 8.0697521108 0.0107074776"
       ]
      },
      {
       "output_type": "stream",
       "stream": "stdout",
       "text": [
        " \r",
        "step:  6101 of 50000 gradient: 8.0697410581 0.0103162180"
       ]
      },
      {
       "output_type": "stream",
       "stream": "stdout",
       "text": [
        " \r",
        "step:  6151 of 50000 gradient: 8.0697307985 0.0099390687"
       ]
      },
      {
       "output_type": "stream",
       "stream": "stdout",
       "text": [
        " \r",
        "step:  6201 of 50000 gradient: 8.0697212755 0.0095755358"
       ]
      },
      {
       "output_type": "stream",
       "stream": "stdout",
       "text": [
        " \r",
        "step:  6251 of 50000 gradient: 8.0697124366 0.0092251416"
       ]
      },
      {
       "output_type": "stream",
       "stream": "stdout",
       "text": [
        " \r",
        "step:  6301 of 50000 gradient: 8.0697042328 0.0088874240"
       ]
      },
      {
       "output_type": "stream",
       "stream": "stdout",
       "text": [
        " \r",
        "step:  6351 of 50000 gradient: 8.0696966189 0.0085619360"
       ]
      },
      {
       "output_type": "stream",
       "stream": "stdout",
       "text": [
        " \r",
        "step:  6401 of 50000 gradient: 8.0696895525 0.0082482456"
       ]
      },
      {
       "output_type": "stream",
       "stream": "stdout",
       "text": [
        " \r",
        "step:  6451 of 50000 gradient: 8.0696829945 0.0079459352"
       ]
      },
      {
       "output_type": "stream",
       "stream": "stdout",
       "text": [
        " \r",
        "step:  6501 of 50000 gradient: 8.0696769085 0.0076546011"
       ]
      },
      {
       "output_type": "stream",
       "stream": "stdout",
       "text": [
        " \r",
        "step:  6551 of 50000 gradient: 8.0696712607 0.0073738532"
       ]
      },
      {
       "output_type": "stream",
       "stream": "stdout",
       "text": [
        " \r",
        "step:  6601 of 50000 gradient: 8.0696660196 0.0071033147"
       ]
      },
      {
       "output_type": "stream",
       "stream": "stdout",
       "text": [
        " \r",
        "step:  6651 of 50000 gradient: 8.0696611561 0.0068426216"
       ]
      },
      {
       "output_type": "stream",
       "stream": "stdout",
       "text": [
        " \r",
        "step:  6701 of 50000 gradient: 8.0696566431 0.0065914220"
       ]
      },
      {
       "output_type": "stream",
       "stream": "stdout",
       "text": [
        " \r",
        "step:  6751 of 50000 gradient: 8.0696524554 0.0063493765"
       ]
      },
      {
       "output_type": "stream",
       "stream": "stdout",
       "text": [
        " \r",
        "step:  6801 of 50000 gradient: 8.0696485696 0.0061161569"
       ]
      },
      {
       "output_type": "stream",
       "stream": "stdout",
       "text": [
        " \r",
        "step:  6851 of 50000 gradient: 8.0696449642 0.0058914468"
       ]
      },
      {
       "output_type": "stream",
       "stream": "stdout",
       "text": [
        " \r",
        "step:  6901 of 50000 gradient: 8.0696416188 0.0056749403"
       ]
      },
      {
       "output_type": "stream",
       "stream": "stdout",
       "text": [
        " \r",
        "step:  6951 of 50000 gradient: 8.0696385147 0.0054663424"
       ]
      },
      {
       "output_type": "stream",
       "stream": "stdout",
       "text": [
        " \r",
        "step:  7001 of 50000 gradient: 8.0696356348 0.0052653682"
       ]
      },
      {
       "output_type": "stream",
       "stream": "stdout",
       "text": [
        " \r",
        "step:  7051 of 50000 gradient: 8.0696329627 0.0050717428"
       ]
      },
      {
       "output_type": "stream",
       "stream": "stdout",
       "text": [
        " \r",
        "step:  7101 of 50000 gradient: 8.0696304835 0.0048852009"
       ]
      },
      {
       "output_type": "stream",
       "stream": "stdout",
       "text": [
        " \r",
        "step:  7151 of 50000 gradient: 8.0696281834 0.0047054865"
       ]
      },
      {
       "output_type": "stream",
       "stream": "stdout",
       "text": [
        " \r",
        "step:  7201 of 50000 gradient: 8.0696260494 0.0045323526"
       ]
      },
      {
       "output_type": "stream",
       "stream": "stdout",
       "text": [
        " \r",
        "step:  7251 of 50000 gradient: 8.0696240696 0.0043655611"
       ]
      },
      {
       "output_type": "stream",
       "stream": "stdout",
       "text": [
        " \r",
        "step:  7301 of 50000 gradient: 8.0696222328 0.0042048818"
       ]
      },
      {
       "output_type": "stream",
       "stream": "stdout",
       "text": [
        " \r",
        "step:  7351 of 50000 gradient: 8.0696205287 0.0040500933"
       ]
      },
      {
       "output_type": "stream",
       "stream": "stdout",
       "text": [
        " \r",
        "step:  7401 of 50000 gradient: 8.0696189478 0.0039009814"
       ]
      },
      {
       "output_type": "stream",
       "stream": "stdout",
       "text": [
        " \r",
        "step:  7451 of 50000 gradient: 8.0696174812 0.0037573401"
       ]
      },
      {
       "output_type": "stream",
       "stream": "stdout",
       "text": [
        " \r",
        "step:  7501 of 50000 gradient: 8.0696161206 0.0036189703"
       ]
      },
      {
       "output_type": "stream",
       "stream": "stdout",
       "text": [
        " \r",
        "step:  7551 of 50000 gradient: 8.0696148584 0.0034856801"
       ]
      },
      {
       "output_type": "stream",
       "stream": "stdout",
       "text": [
        " \r",
        "step:  7601 of 50000 gradient: 8.0696136874 0.0033572847"
       ]
      },
      {
       "output_type": "stream",
       "stream": "stdout",
       "text": [
        " \r",
        "step:  7651 of 50000 gradient: 8.0696126011 0.0032336055"
       ]
      },
      {
       "output_type": "stream",
       "stream": "stdout",
       "text": [
        " \r",
        "step:  7701 of 50000 gradient: 8.0696115934 0.0031144707"
       ]
      },
      {
       "output_type": "stream",
       "stream": "stdout",
       "text": [
        " \r",
        "step:  7751 of 50000 gradient: 8.0696106586 0.0029997143"
       ]
      },
      {
       "output_type": "stream",
       "stream": "stdout",
       "text": [
        " \r",
        "step:  7801 of 50000 gradient: 8.0696097914 0.0028891766"
       ]
      },
      {
       "output_type": "stream",
       "stream": "stdout",
       "text": [
        " \r",
        "step:  7851 of 50000 gradient: 8.0696089869 0.0027827034"
       ]
      },
      {
       "output_type": "stream",
       "stream": "stdout",
       "text": [
        " \r",
        "step:  7901 of 50000 gradient: 8.0696082407 0.0026801460"
       ]
      },
      {
       "output_type": "stream",
       "stream": "stdout",
       "text": [
        " \r",
        "step:  7951 of 50000 gradient: 8.0696075484 0.0025813614"
       ]
      },
      {
       "output_type": "stream",
       "stream": "stdout",
       "text": [
        " \r",
        "step:  8001 of 50000 gradient: 8.0696069062 0.0024862115"
       ]
      },
      {
       "output_type": "stream",
       "stream": "stdout",
       "text": [
        " \r",
        "step:  8051 of 50000 gradient: 8.0696063105 0.0023945631"
       ]
      },
      {
       "output_type": "stream",
       "stream": "stdout",
       "text": [
        " \r",
        "step:  8101 of 50000 gradient: 8.0696057579 0.0023062882"
       ]
      },
      {
       "output_type": "stream",
       "stream": "stdout",
       "text": [
        " \r",
        "step:  8151 of 50000 gradient: 8.0696052453 0.0022212630"
       ]
      },
      {
       "output_type": "stream",
       "stream": "stdout",
       "text": [
        " \r",
        "step:  8201 of 50000 gradient: 8.0696047698 0.0021393684"
       ]
      },
      {
       "output_type": "stream",
       "stream": "stdout",
       "text": [
        " \r",
        "step:  8251 of 50000 gradient: 8.0696043287 0.0020604897"
       ]
      },
      {
       "output_type": "stream",
       "stream": "stdout",
       "text": [
        " \r",
        "step:  8301 of 50000 gradient: 8.0696039196 0.0019845162"
       ]
      },
      {
       "output_type": "stream",
       "stream": "stdout",
       "text": [
        " \r",
        "step:  8351 of 50000 gradient: 8.0696035400 0.0019113414"
       ]
      },
      {
       "output_type": "stream",
       "stream": "stdout",
       "text": [
        " \r",
        "step:  8401 of 50000 gradient: 8.0696031880 0.0018408624"
       ]
      },
      {
       "output_type": "stream",
       "stream": "stdout",
       "text": [
        " \r",
        "step:  8451 of 50000 gradient: 8.0696028614 0.0017729802"
       ]
      },
      {
       "output_type": "stream",
       "stream": "stdout",
       "text": [
        " \r",
        "step:  8501 of 50000 gradient: 8.0696025585 0.0017075996"
       ]
      },
      {
       "output_type": "stream",
       "stream": "stdout",
       "text": [
        " \r",
        "step:  8551 of 50000 gradient: 8.0696022774 0.0016446285"
       ]
      },
      {
       "output_type": "stream",
       "stream": "stdout",
       "text": [
        " \r",
        "step:  8601 of 50000 gradient: 8.0696020168 0.0015839784"
       ]
      },
      {
       "output_type": "stream",
       "stream": "stdout",
       "text": [
        " \r",
        "step:  8651 of 50000 gradient: 8.0696017750 0.0015255640"
       ]
      },
      {
       "output_type": "stream",
       "stream": "stdout",
       "text": [
        " \r",
        "step:  8701 of 50000 gradient: 8.0696015507 0.0014693031"
       ]
      },
      {
       "output_type": "stream",
       "stream": "stdout",
       "text": [
        " \r",
        "step:  8751 of 50000 gradient: 8.0696013427 0.0014151165"
       ]
      },
      {
       "output_type": "stream",
       "stream": "stdout",
       "text": [
        " \r",
        "step:  8801 of 50000 gradient: 8.0696011497 0.0013629277"
       ]
      },
      {
       "output_type": "stream",
       "stream": "stdout",
       "text": [
        " \r",
        "step:  8851 of 50000 gradient: 8.0696009706 0.0013126634"
       ]
      },
      {
       "output_type": "stream",
       "stream": "stdout",
       "text": [
        " \r",
        "step:  8901 of 50000 gradient: 8.0696008046 0.0012642527"
       ]
      },
      {
       "output_type": "stream",
       "stream": "stdout",
       "text": [
        " \r",
        "step:  8951 of 50000 gradient: 8.0696006506 0.0012176274"
       ]
      },
      {
       "output_type": "stream",
       "stream": "stdout",
       "text": [
        " \r",
        "step:  9001 of 50000 gradient: 8.0696005077 0.0011727216"
       ]
      },
      {
       "output_type": "stream",
       "stream": "stdout",
       "text": [
        " \r",
        "step:  9051 of 50000 gradient: 8.0696003751 0.0011294721"
       ]
      },
      {
       "output_type": "stream",
       "stream": "stdout",
       "text": [
        " \r",
        "step:  9101 of 50000 gradient: 8.0696002522 0.0010878179"
       ]
      },
      {
       "output_type": "stream",
       "stream": "stdout",
       "text": [
        " \r",
        "step:  9151 of 50000 gradient: 8.0696001382 0.0010477002"
       ]
      },
      {
       "output_type": "stream",
       "stream": "stdout",
       "text": [
        " \r",
        "step:  9201 of 50000 gradient: 8.0696000324 0.0010090624"
       ]
      },
      {
       "output_type": "stream",
       "stream": "stdout",
       "text": [
        " \r",
        "step:  9251 of 50000 gradient: 8.0695999343 0.0009718500"
       ]
      },
      {
       "output_type": "stream",
       "stream": "stdout",
       "text": [
        " \r",
        "step:  9301 of 50000 gradient: 8.0695998432 0.0009360104"
       ]
      },
      {
       "output_type": "stream",
       "stream": "stdout",
       "text": [
        " \r",
        "step:  9351 of 50000 gradient: 8.0695997588 0.0009014929"
       ]
      },
      {
       "output_type": "stream",
       "stream": "stdout",
       "text": [
        " \r",
        "step:  9401 of 50000 gradient: 8.0695996805 0.0008682490"
       ]
      },
      {
       "output_type": "stream",
       "stream": "stdout",
       "text": [
        " \r",
        "step:  9451 of 50000 gradient: 8.0695996078 0.0008362316"
       ]
      },
      {
       "output_type": "stream",
       "stream": "stdout",
       "text": [
        " \r",
        "step:  9501 of 50000 gradient: 8.0695995404 0.0008053954"
       ]
      },
      {
       "output_type": "stream",
       "stream": "stdout",
       "text": [
        " \r",
        "step:  9551 of 50000 gradient: 8.0695994779 0.0007756970"
       ]
      },
      {
       "output_type": "stream",
       "stream": "stdout",
       "text": [
        " \r",
        "step:  9601 of 50000 gradient: 8.0695994199 0.0007470944"
       ]
      },
      {
       "output_type": "stream",
       "stream": "stdout",
       "text": [
        " \r",
        "step:  9651 of 50000 gradient: 8.0695993661 0.0007195471"
       ]
      },
      {
       "output_type": "stream",
       "stream": "stdout",
       "text": [
        " \r",
        "step:  9701 of 50000 gradient: 8.0695993162 0.0006930162"
       ]
      },
      {
       "output_type": "stream",
       "stream": "stdout",
       "text": [
        " \r",
        "step:  9751 of 50000 gradient: 8.0695992700 0.0006674643"
       ]
      },
      {
       "output_type": "stream",
       "stream": "stdout",
       "text": [
        " \r",
        "step:  9801 of 50000 gradient: 8.0695992270 0.0006428551"
       ]
      },
      {
       "output_type": "stream",
       "stream": "stdout",
       "text": [
        " \r",
        "step:  9851 of 50000 gradient: 8.0695991872 0.0006191540"
       ]
      },
      {
       "output_type": "stream",
       "stream": "stdout",
       "text": [
        " \r",
        "step:  9901 of 50000 gradient: 8.0695991503 0.0005963274"
       ]
      },
      {
       "output_type": "stream",
       "stream": "stdout",
       "text": [
        " \r",
        "step:  9951 of 50000 gradient: 8.0695991160 0.0005743430"
       ]
      },
      {
       "output_type": "stream",
       "stream": "stdout",
       "text": [
        " \r",
        "step: 10001 of 50000 gradient: 8.0695990842 0.0005531699"
       ]
      },
      {
       "output_type": "stream",
       "stream": "stdout",
       "text": [
        " \r",
        "step: 10051 of 50000 gradient: 8.0695990547 0.0005327779"
       ]
      },
      {
       "output_type": "stream",
       "stream": "stdout",
       "text": [
        " \r",
        "step: 10101 of 50000 gradient: 8.0695990274 0.0005131383"
       ]
      },
      {
       "output_type": "stream",
       "stream": "stdout",
       "text": [
        " \r",
        "step: 10151 of 50000 gradient: 8.0695990020 0.0004942234"
       ]
      },
      {
       "output_type": "stream",
       "stream": "stdout",
       "text": [
        " \r",
        "step: 10201 of 50000 gradient: 8.0695989784 0.0004760064"
       ]
      },
      {
       "output_type": "stream",
       "stream": "stdout",
       "text": [
        " \r",
        "step: 10251 of 50000 gradient: 8.0695989566 0.0004584615"
       ]
      },
      {
       "output_type": "stream",
       "stream": "stdout",
       "text": [
        " \r",
        "step: 10301 of 50000 gradient: 8.0695989363 0.0004415639"
       ]
      },
      {
       "output_type": "stream",
       "stream": "stdout",
       "text": [
        " \r",
        "step: 10351 of 50000 gradient: 8.0695989176 0.0004252897"
       ]
      },
      {
       "output_type": "stream",
       "stream": "stdout",
       "text": [
        " \r",
        "step: 10401 of 50000 gradient: 8.0695989001 0.0004096159"
       ]
      },
      {
       "output_type": "stream",
       "stream": "stdout",
       "text": [
        " \r",
        "step: 10451 of 50000 gradient: 8.0695988840 0.0003945204"
       ]
      },
      {
       "output_type": "stream",
       "stream": "stdout",
       "text": [
        " \r",
        "step: 10501 of 50000 gradient: 8.0695988690 0.0003799818"
       ]
      },
      {
       "output_type": "stream",
       "stream": "stdout",
       "text": [
        " \r",
        "step: 10551 of 50000 gradient: 8.0695988550 0.0003659795"
       ]
      },
      {
       "output_type": "stream",
       "stream": "stdout",
       "text": [
        " \r",
        "step: 10601 of 50000 gradient: 8.0695988421 0.0003524938"
       ]
      },
      {
       "output_type": "stream",
       "stream": "stdout",
       "text": [
        " \r",
        "step: 10651 of 50000 gradient: 8.0695988302 0.0003395055"
       ]
      },
      {
       "output_type": "stream",
       "stream": "stdout",
       "text": [
        " \r",
        "step: 10701 of 50000 gradient: 8.0695988190 0.0003269964"
       ]
      },
      {
       "output_type": "stream",
       "stream": "stdout",
       "text": [
        " \r",
        "step: 10751 of 50000 gradient: 8.0695988087 0.0003149486"
       ]
      },
      {
       "output_type": "stream",
       "stream": "stdout",
       "text": [
        " \r",
        "step: 10801 of 50000 gradient: 8.0695987992 0.0003033453"
       ]
      },
      {
       "output_type": "stream",
       "stream": "stdout",
       "text": [
        " \r",
        "step: 10851 of 50000 gradient: 8.0695987903 0.0002921700"
       ]
      },
      {
       "output_type": "stream",
       "stream": "stdout",
       "text": [
        " \r",
        "step: 10901 of 50000 gradient: 8.0695987821 0.0002814068"
       ]
      },
      {
       "output_type": "stream",
       "stream": "stdout",
       "text": [
        " \r",
        "step: 10951 of 50000 gradient: 8.0695987745 0.0002710406"
       ]
      },
      {
       "output_type": "stream",
       "stream": "stdout",
       "text": [
        " \r",
        "step: 11001 of 50000 gradient: 8.0695987674 0.0002610567"
       ]
      },
      {
       "output_type": "stream",
       "stream": "stdout",
       "text": [
        " \r",
        "step: 11051 of 50000 gradient: 8.0695987608 0.0002514410"
       ]
      },
      {
       "output_type": "stream",
       "stream": "stdout",
       "text": [
        " \r",
        "step: 11101 of 50000 gradient: 8.0695987547 0.0002421800"
       ]
      },
      {
       "output_type": "stream",
       "stream": "stdout",
       "text": [
        " \r",
        "step: 11151 of 50000 gradient: 8.0695987491 0.0002332604"
       ]
      },
      {
       "output_type": "stream",
       "stream": "stdout",
       "text": [
        " \r",
        "step: 11201 of 50000 gradient: 8.0695987438 0.0002246698"
       ]
      },
      {
       "output_type": "stream",
       "stream": "stdout",
       "text": [
        " \r",
        "step: 11251 of 50000 gradient: 8.0695987390 0.0002163959"
       ]
      },
      {
       "output_type": "stream",
       "stream": "stdout",
       "text": [
        " \r",
        "step: 11301 of 50000 gradient: 8.0695987344 0.0002084271"
       ]
      },
      {
       "output_type": "stream",
       "stream": "stdout",
       "text": [
        " \r",
        "step: 11351 of 50000 gradient: 8.0695987303 0.0002007521"
       ]
      },
      {
       "output_type": "stream",
       "stream": "stdout",
       "text": [
        " \r",
        "step: 11401 of 50000 gradient: 8.0695987264 0.0001933601"
       ]
      },
      {
       "output_type": "stream",
       "stream": "stdout",
       "text": [
        " \r",
        "step: 11451 of 50000 gradient: 8.0695987228 0.0001862407"
       ]
      },
      {
       "output_type": "stream",
       "stream": "stdout",
       "text": [
        " \r",
        "step: 11501 of 50000 gradient: 8.0695987194 0.0001793837"
       ]
      },
      {
       "output_type": "stream",
       "stream": "stdout",
       "text": [
        " \r",
        "step: 11551 of 50000 gradient: 8.0695987163 0.0001727795"
       ]
      },
      {
       "output_type": "stream",
       "stream": "stdout",
       "text": [
        " \r",
        "step: 11601 of 50000 gradient: 8.0695987134 0.0001664187"
       ]
      },
      {
       "output_type": "stream",
       "stream": "stdout",
       "text": [
        " \r",
        "step: 11651 of 50000 gradient: 8.0695987108 0.0001602924"
       ]
      },
      {
       "output_type": "stream",
       "stream": "stdout",
       "text": [
        " \r",
        "step: 11701 of 50000 gradient: 8.0695987083 0.0001543919"
       ]
      },
      {
       "output_type": "stream",
       "stream": "stdout",
       "text": [
        " \r",
        "step: 11751 of 50000 gradient: 8.0695987060 0.0001487089"
       ]
      },
      {
       "output_type": "stream",
       "stream": "stdout",
       "text": [
        " \r",
        "step: 11801 of 50000 gradient: 8.0695987039 0.0001432354"
       ]
      },
      {
       "output_type": "stream",
       "stream": "stdout",
       "text": [
        " \r",
        "step: 11851 of 50000 gradient: 8.0695987019 0.0001379636"
       ]
      },
      {
       "output_type": "stream",
       "stream": "stdout",
       "text": [
        " \r",
        "step: 11901 of 50000 gradient: 8.0695987001 0.0001328861"
       ]
      },
      {
       "output_type": "stream",
       "stream": "stdout",
       "text": [
        " \r",
        "step: 11951 of 50000 gradient: 8.0695986984 0.0001279957"
       ]
      },
      {
       "output_type": "stream",
       "stream": "stdout",
       "text": [
        " \r",
        "step: 12001 of 50000 gradient: 8.0695986968 0.0001232855"
       ]
      },
      {
       "output_type": "stream",
       "stream": "stdout",
       "text": [
        " \r",
        "step: 12051 of 50000 gradient: 8.0695986953 0.0001187488"
       ]
      },
      {
       "output_type": "stream",
       "stream": "stdout",
       "text": [
        " \r",
        "step: 12101 of 50000 gradient: 8.0695986940 0.0001143793"
       ]
      },
      {
       "output_type": "stream",
       "stream": "stdout",
       "text": [
        " \r",
        "step: 12151 of 50000 gradient: 8.0695986927 0.0001101709"
       ]
      },
      {
       "output_type": "stream",
       "stream": "stdout",
       "text": [
        " \r",
        "step: 12201 of 50000 gradient: 8.0695986915 0.0001061174"
       ]
      },
      {
       "output_type": "stream",
       "stream": "stdout",
       "text": [
        " \r",
        "step: 12251 of 50000 gradient: 8.0695986904 0.0001022133"
       ]
      },
      {
       "output_type": "stream",
       "stream": "stdout",
       "text": [
        " \r",
        "step: 12301 of 50000 gradient: 8.0695986894 0.0000984531"
       ]
      },
      {
       "output_type": "stream",
       "stream": "stdout",
       "text": [
        " \r",
        "step: 12351 of 50000 gradient: 8.0695986885 0.0000948313"
       ]
      },
      {
       "output_type": "stream",
       "stream": "stdout",
       "text": [
        " \r",
        "step: 12401 of 50000 gradient: 8.0695986876 0.0000913430"
       ]
      },
      {
       "output_type": "stream",
       "stream": "stdout",
       "text": [
        " \r",
        "step: 12451 of 50000 gradient: 8.0695986868 0.0000879831"
       ]
      },
      {
       "output_type": "stream",
       "stream": "stdout",
       "text": [
        " \r",
        "step: 12501 of 50000 gradient: 8.0695986861 0.0000847470"
       ]
      },
      {
       "output_type": "stream",
       "stream": "stdout",
       "text": [
        " \r",
        "step: 12551 of 50000 gradient: 8.0695986854 0.0000816301"
       ]
      },
      {
       "output_type": "stream",
       "stream": "stdout",
       "text": [
        " \r",
        "step: 12601 of 50000 gradient: 8.0695986847 0.0000786279"
       ]
      },
      {
       "output_type": "stream",
       "stream": "stdout",
       "text": [
        " \r",
        "step: 12651 of 50000 gradient: 8.0695986841 0.0000757364"
       ]
      },
      {
       "output_type": "stream",
       "stream": "stdout",
       "text": [
        " \r",
        "step: 12701 of 50000 gradient: 8.0695986836 0.0000729513"
       ]
      },
      {
       "output_type": "stream",
       "stream": "stdout",
       "text": [
        " \r",
        "step: 12751 of 50000 gradient: 8.0695986831 0.0000702687"
       ]
      },
      {
       "output_type": "stream",
       "stream": "stdout",
       "text": [
        " \r",
        "step: 12801 of 50000 gradient: 8.0695986826 0.0000676850"
       ]
      },
      {
       "output_type": "stream",
       "stream": "stdout",
       "text": [
        " \r",
        "step: 12851 of 50000 gradient: 8.0695986822 0.0000651964"
       ]
      },
      {
       "output_type": "stream",
       "stream": "stdout",
       "text": [
        " \r",
        "step: 12901 of 50000 gradient: 8.0695986818 0.0000627993"
       ]
      },
      {
       "output_type": "stream",
       "stream": "stdout",
       "text": [
        " \r",
        "step: 12951 of 50000 gradient: 8.0695986814 0.0000604906"
       ]
      },
      {
       "output_type": "stream",
       "stream": "stdout",
       "text": [
        " \r",
        "step: 13001 of 50000 gradient: 8.0695986810 0.0000582668"
       ]
      },
      {
       "output_type": "stream",
       "stream": "stdout",
       "text": [
        " \r",
        "step: 13051 of 50000 gradient: 8.0695986807 0.0000561249"
       ]
      },
      {
       "output_type": "stream",
       "stream": "stdout",
       "text": [
        " \r",
        "step: 13101 of 50000 gradient: 8.0695986804 0.0000540618"
       ]
      },
      {
       "output_type": "stream",
       "stream": "stdout",
       "text": [
        " \r",
        "step: 13151 of 50000 gradient: 8.0695986801 0.0000520747"
       ]
      },
      {
       "output_type": "stream",
       "stream": "stdout",
       "text": [
        " \r",
        "step: 13201 of 50000 gradient: 8.0695986798 0.0000501607"
       ]
      },
      {
       "output_type": "stream",
       "stream": "stdout",
       "text": [
        " \r",
        "step: 13251 of 50000 gradient: 8.0695986796 0.0000483172"
       ]
      },
      {
       "output_type": "stream",
       "stream": "stdout",
       "text": [
        " \r",
        "step: 13301 of 50000 gradient: 8.0695986794 0.0000465415"
       ]
      },
      {
       "output_type": "stream",
       "stream": "stdout",
       "text": [
        " \r",
        "step: 13351 of 50000 gradient: 8.0695986792 0.0000448311"
       ]
      },
      {
       "output_type": "stream",
       "stream": "stdout",
       "text": [
        " \r",
        "step: 13401 of 50000 gradient: 8.0695986790 0.0000431837"
       ]
      },
      {
       "output_type": "stream",
       "stream": "stdout",
       "text": [
        " \r",
        "step: 13451 of 50000 gradient: 8.0695986788 0.0000415969"
       ]
      },
      {
       "output_type": "stream",
       "stream": "stdout",
       "text": [
        " \r",
        "step: 13501 of 50000 gradient: 8.0695986786 0.0000400685"
       ]
      },
      {
       "output_type": "stream",
       "stream": "stdout",
       "text": [
        " \r",
        "step: 13551 of 50000 gradient: 8.0695986785 0.0000385963"
       ]
      },
      {
       "output_type": "stream",
       "stream": "stdout",
       "text": [
        " \r",
        "step: 13601 of 50000 gradient: 8.0695986783 0.0000371783"
       ]
      },
      {
       "output_type": "stream",
       "stream": "stdout",
       "text": [
        " \r",
        "step: 13651 of 50000 gradient: 8.0695986782 0.0000358124"
       ]
      },
      {
       "output_type": "stream",
       "stream": "stdout",
       "text": [
        " \r",
        "step: 13701 of 50000 gradient: 8.0695986781 0.0000344968"
       ]
      },
      {
       "output_type": "stream",
       "stream": "stdout",
       "text": [
        " \r",
        "step: 13751 of 50000 gradient: 8.0695986780 0.0000332296"
       ]
      },
      {
       "output_type": "stream",
       "stream": "stdout",
       "text": [
        " \r",
        "step: 13801 of 50000 gradient: 8.0695986779 0.0000320090"
       ]
      },
      {
       "output_type": "stream",
       "stream": "stdout",
       "text": [
        " \r",
        "step: 13851 of 50000 gradient: 8.0695986778 0.0000308333"
       ]
      },
      {
       "output_type": "stream",
       "stream": "stdout",
       "text": [
        " \r",
        "step: 13901 of 50000 gradient: 8.0695986777 0.0000297008"
       ]
      },
      {
       "output_type": "stream",
       "stream": "stdout",
       "text": [
        " \r",
        "step: 13951 of 50000 gradient: 8.0695986776 0.0000286100"
       ]
      },
      {
       "output_type": "stream",
       "stream": "stdout",
       "text": [
        " \r",
        "step: 14001 of 50000 gradient: 8.0695986775 0.0000275593"
       ]
      },
      {
       "output_type": "stream",
       "stream": "stdout",
       "text": [
        " \r",
        "step: 14051 of 50000 gradient: 8.0695986774 0.0000265472"
       ]
      },
      {
       "output_type": "stream",
       "stream": "stdout",
       "text": [
        " \r",
        "step: 14101 of 50000 gradient: 8.0695986774 0.0000255724"
       ]
      },
      {
       "output_type": "stream",
       "stream": "stdout",
       "text": [
        " \r",
        "step: 14151 of 50000 gradient: 8.0695986773 0.0000246334"
       ]
      },
      {
       "output_type": "stream",
       "stream": "stdout",
       "text": [
        " \r",
        "step: 14201 of 50000 gradient: 8.0695986772 0.0000237289"
       ]
      },
      {
       "output_type": "stream",
       "stream": "stdout",
       "text": [
        " \r",
        "step: 14251 of 50000 gradient: 8.0695986772 0.0000228577"
       ]
      },
      {
       "output_type": "stream",
       "stream": "stdout",
       "text": [
        " \r",
        "step: 14301 of 50000 gradient: 8.0695986771 0.0000220185"
       ]
      },
      {
       "output_type": "stream",
       "stream": "stdout",
       "text": [
        " \r",
        "step: 14351 of 50000 gradient: 8.0695986771 0.0000212101"
       ]
      },
      {
       "output_type": "stream",
       "stream": "stdout",
       "text": [
        " \r",
        "step: 14401 of 50000 gradient: 8.0695986770 0.0000204315"
       ]
      },
      {
       "output_type": "stream",
       "stream": "stdout",
       "text": [
        " \r",
        "step: 14451 of 50000 gradient: 8.0695986770 0.0000196815"
       ]
      },
      {
       "output_type": "stream",
       "stream": "stdout",
       "text": [
        " \r",
        "step: 14501 of 50000 gradient: 8.0695986770 0.0000189590"
       ]
      },
      {
       "output_type": "stream",
       "stream": "stdout",
       "text": [
        " \r",
        "step: 14551 of 50000 gradient: 8.0695986769 0.0000182631"
       ]
      },
      {
       "output_type": "stream",
       "stream": "stdout",
       "text": [
        " \r",
        "step: 14601 of 50000 gradient: 8.0695986769 0.0000175928"
       ]
      },
      {
       "output_type": "stream",
       "stream": "stdout",
       "text": [
        " \r",
        "step: 14651 of 50000 gradient: 8.0695986769 0.0000169471"
       ]
      },
      {
       "output_type": "stream",
       "stream": "stdout",
       "text": [
        " \r",
        "step: 14701 of 50000 gradient: 8.0695986768 0.0000163252"
       ]
      },
      {
       "output_type": "stream",
       "stream": "stdout",
       "text": [
        " \r",
        "step: 14751 of 50000 gradient: 8.0695986768 0.0000157261"
       ]
      },
      {
       "output_type": "stream",
       "stream": "stdout",
       "text": [
        " \r",
        "step: 14801 of 50000 gradient: 8.0695986768 0.0000151490"
       ]
      },
      {
       "output_type": "stream",
       "stream": "stdout",
       "text": [
        " \r",
        "step: 14851 of 50000 gradient: 8.0695986768 0.0000145931"
       ]
      },
      {
       "output_type": "stream",
       "stream": "stdout",
       "text": [
        " \r",
        "step: 14901 of 50000 gradient: 8.0695986767 0.0000140576"
       ]
      },
      {
       "output_type": "stream",
       "stream": "stdout",
       "text": [
        " \r",
        "step: 14951 of 50000 gradient: 8.0695986767 0.0000135418"
       ]
      },
      {
       "output_type": "stream",
       "stream": "stdout",
       "text": [
        " \r",
        "step: 15001 of 50000 gradient: 8.0695986767 0.0000130450"
       ]
      },
      {
       "output_type": "stream",
       "stream": "stdout",
       "text": [
        " \r",
        "step: 15051 of 50000 gradient: 8.0695986767 0.0000125664"
       ]
      },
      {
       "output_type": "stream",
       "stream": "stdout",
       "text": [
        " \r",
        "step: 15101 of 50000 gradient: 8.0695986767 0.0000121054"
       ]
      },
      {
       "output_type": "stream",
       "stream": "stdout",
       "text": [
        " \r",
        "step: 15151 of 50000 gradient: 8.0695986767 0.0000116613"
       ]
      },
      {
       "output_type": "stream",
       "stream": "stdout",
       "text": [
        " \r",
        "step: 15201 of 50000 gradient: 8.0695986767 0.0000112336"
       ]
      },
      {
       "output_type": "stream",
       "stream": "stdout",
       "text": [
        " \r",
        "step: 15251 of 50000 gradient: 8.0695986766 0.0000108215"
       ]
      },
      {
       "output_type": "stream",
       "stream": "stdout",
       "text": [
        " \r",
        "step: 15301 of 50000 gradient: 8.0695986766 0.0000104246"
       ]
      },
      {
       "output_type": "stream",
       "stream": "stdout",
       "text": [
        " \r",
        "step: 15351 of 50000 gradient: 8.0695986766 0.0000100422"
       ]
      },
      {
       "output_type": "stream",
       "stream": "stdout",
       "text": [
        " \r",
        "step: 15401 of 50000 gradient: 8.0695986766 0.0000096776"
       ]
      },
      {
       "output_type": "stream",
       "stream": "stdout",
       "text": [
        " \r",
        "step: 15451 of 50000 gradient: 8.0695986766 0.0000093331 step 28"
       ]
      },
      {
       "output_type": "stream",
       "stream": "stdout",
       "text": [
        " \n",
        "Step size break\n",
        "\n",
        "Found minimum of functional and gradient at step 15451: 8.069599, 0.000009\n"
       ]
      }
     ],
     "prompt_number": 72
    },
    {
     "cell_type": "code",
     "collapsed": false,
     "input": [
      "phat_save = copy.deepcopy(phat_min)"
     ],
     "language": "python",
     "metadata": {},
     "outputs": [],
     "prompt_number": 73
    },
    {
     "cell_type": "code",
     "collapsed": false,
     "input": [
      "# principal mode\n",
      "overlap = np.abs(np.dot(PM_in.conj(), phat_min))**2\n",
      "overlap = np.abs(np.dot(PM_in.conj(), phat_PM))**2\n",
      "overlap = np.abs(np.dot(PM_in.conj(), PM_in[0]))**2\n",
      "\n",
      "max_overlap_indx = np.argsort(overlap)[-1]\n",
      "print max_overlap_indx\n",
      "plot(overlap, 'd-b')\n",
      "show()\n",
      "print np.argsort(overlap)\n",
      "\n",
      "#PM_choice_in = PM_in[max_overlap_indx]\n",
      "PM_choice_in = phat_PM\n",
      "#PM_choice_in = PM_in[-1]\n",
      "PM_choice_out = np.einsum('xkl,k->xl', t, PM_choice_in)\n",
      "PM_choice_out_FT = np.fft.fftshift(np.fft.fft(PM_choice_out, axis=-1), axes=-1)\n",
      "\n",
      "# random superposition of input angles\n",
      "rand_in = phat_rand\n",
      "rand_in /= np.linalg.norm(rand_in)\n",
      "rand_out = np.einsum('xkl,k->xl', t, rand_in)\n",
      "rand_choice_out_FT = np.fft.fftshift(np.fft.fft(rand_out, axis=-1), axes=-1)\n",
      "\n",
      "\n",
      "# specific input angle\n",
      "indx_k_PM_max = np.argmax(np.abs(PM_choice_in)**2)\n",
      "print indx_k_PM_max \n",
      "k_choice_in = np.zeros((N_k,))\n",
      "k_choice_in[indx_k_PM_max] = 1.\n",
      "k_choice_in /= np.linalg.norm(k_choice_in)\n",
      "k_choice_out = np.einsum('xkl,k->xl', t, k_choice_in)\n",
      "k_choice_out_FT = np.fft.fftshift(np.fft.fft(k_choice_out, axis=-1), axes=-1)\n",
      "\n",
      "\n",
      "# optimized state\n",
      "#Opt_in = np.load(file_out+'_opt_input.npy')\n",
      "Opt_in = phat_min\n",
      "Opt_out = np.einsum('xkl,k->xl', t, Opt_in)\n",
      "Opt_choice_out_FT = np.fft.fftshift(np.fft.fft(Opt_out, axis=-1), axes=-1)\n",
      "\n",
      "save_out = np.einsum('xkl,k->xl', t, phat_save)"
     ],
     "language": "python",
     "metadata": {},
     "outputs": [
      {
       "output_type": "stream",
       "stream": "stdout",
       "text": [
        "0\n"
       ]
      },
      {
       "metadata": {},
       "output_type": "display_data",
       "png": "[encoded data removed]",
       "text": [
        "<matplotlib.figure.Figure at 0x3f65910>"
       ]
      },
      {
       "output_type": "stream",
       "stream": "stdout",
       "text": [
        "[11 14 15 10  6 12  7  8 13  4  9  5  3  2  1  0]\n",
        "10\n"
       ]
      }
     ],
     "prompt_number": 74
    },
    {
     "cell_type": "heading",
     "level": 3,
     "metadata": {},
     "source": [
      "Correlations"
     ]
    },
    {
     "cell_type": "code",
     "collapsed": false,
     "input": [
      "lambdas_center = lambdas - lambdas[indx_0]\n",
      "\n",
      "print \"Calculating intensity correlations\"\n",
      "#corr_PM = eou.calc_corr_vec(PM_choice_out, lambdas_center, indx_0)\n",
      "#corr_rand = eou.calc_corr_vec(rand_out, lambdas_center, indx_0)\n",
      "#corr_k = eou.calc_corr_vec(k_choice_out, lambdas_center, indx_0)\n",
      "#corr_Opt = eou.calc_corr_vec(Opt_out, lambdas_center, indx_0)\n",
      "\n",
      "corr_PM = eou.calc_corr_vec(PM_choice_out, indx_0, weights)\n",
      "corr_rand = eou.calc_corr_vec(rand_out, indx_0, weights)\n",
      "corr_k = eou.calc_corr_vec(k_choice_out, indx_0, weights)\n",
      "corr_Opt = eou.calc_corr_vec(Opt_out, indx_0, weights)\n",
      "corr_save = eou.calc_corr_vec(save_out, indx_0, weights)\n",
      "\n",
      "xlim(-3.0,3.0)\n",
      "ylim(0.0,1.2)\n",
      "plot(lambdas_center, np.abs(corr_PM), 'o-b', lw=3.0)\n",
      "plot(lambdas_center, np.abs(corr_rand), 'o-r', lw=3.0)\n",
      "#plot(lambdas_center, np.abs(corr_k), 'o-g', lw=3.0)\n",
      "#plot(lambdas_center, np.abs(corr_save), 'o-y', lw=3.0)\n",
      "plot(lambdas_center, np.abs(corr_Opt), 'o-k', lw=3.0)\n",
      "savefig(file_dir + file_mat + \"_IntCorr.png\")\n",
      "show()\n",
      "\n",
      "print \"Widths of correlation functions\"\n",
      "print \"PM:   \", calc_std(corr_PM, lambdas_center)\n",
      "print \"rand: \", calc_std(corr_rand, lambdas_center)\n",
      "print \"k:    \", calc_std(corr_k, lambdas_center)\n",
      "print \"Opt:  \", calc_std(corr_Opt, lambdas_center)\n",
      "print \n",
      "\n",
      "print \"Calculating field correlations\"\n",
      "corr_PM = eou.calc_corr_field(PM_choice_out, lambdas_center, indx_0, weights, env=phi)\n",
      "corr_rand = eou.calc_corr_field(rand_out, lambdas_center, indx_0, weights, env=phi)\n",
      "corr_k = eou.calc_corr_field(k_choice_out, lambdas_center, indx_0, weights, env=phi)\n",
      "corr_Opt = eou.calc_corr_field(Opt_out, lambdas_center, indx_0, weights, env=phi)\n",
      "\n",
      "#vlines(0.0,-0.5,1.2)\n",
      "#ylim(0.5,1.1)\n",
      "#ylim(0.8,1.10)\n",
      "#ylim(0.0,1.2)\n",
      "#plot(lambdas_center, np.ones(np.shape(lambdas)))\n",
      "#plot(lambdas, phi/phi[indx_0], 'd-y')\n",
      "plot(lambdas_center, np.abs(corr_PM), 'o-b')\n",
      "plot(lambdas_center, np.abs(corr_rand), 'o-r')\n",
      "plot(lambdas_center, np.abs(corr_k), 'o-g')\n",
      "plot(lambdas_center, np.abs(corr_Opt), 'o-k')\n",
      "plot(lambdas_center, np.abs(phi), 'd-y')\n",
      "show()\n",
      "\n",
      "print \"Widths of correlation functions (abs)\"\n",
      "print \"PM:   \", calc_std(np.abs(corr_PM), lambdas_center)\n",
      "print \"rand: \", calc_std(np.abs(corr_rand), lambdas_center)\n",
      "print \"k:    \", calc_std(np.abs(corr_k), lambdas_center)\n",
      "print \"Opt:  \", calc_std(np.abs(corr_Opt), lambdas_center)\n",
      "print \"Env:  \", calc_std(np.abs(phi), lambdas_center)\n",
      "print \n",
      "\n",
      "plot(lambdas_center, np.abs(corr_PM)**2, 'o-b')\n",
      "plot(lambdas_center, np.abs(corr_rand)**2, 'o-r')\n",
      "plot(lambdas_center, np.abs(corr_k)**2, 'o-g')\n",
      "plot(lambdas_center, np.abs(corr_Opt)**2, 'o-k')\n",
      "plot(lambdas_center, np.abs(phi)**2, 'd-y')\n",
      "show()\n",
      "\n",
      "print \"Widths of correlation functions (abs^2)\"\n",
      "print \"PM:   \", calc_std_field(np.abs(corr_PM), lambdas_center)\n",
      "print \"rand: \", calc_std_field(np.abs(corr_rand), lambdas_center)\n",
      "print \"k:    \", calc_std_field(np.abs(corr_k), lambdas_center)\n",
      "print \"Opt:  \", calc_std_field(np.abs(corr_Opt), lambdas_center)\n",
      "print \"Env:  \", calc_std_field(np.abs(phi), lambdas_center)\n",
      "print \n",
      "\n",
      "print \"Calculating transmissions\"\n",
      "T_PM = np.sum(np.abs(PM_choice_out)**2, axis=0)\n",
      "T_rand = np.sum(np.abs(rand_out)**2, axis=0)\n",
      "T_k = np.sum(np.abs(k_choice_out)**2, axis=0)\n",
      "T_Opt = np.sum(np.abs(Opt_out)**2, axis=0)\n",
      "\n",
      "plot(lambdas, T_PM, '-b')\n",
      "plot(lambdas, T_rand, '-r')\n",
      "plot(lambdas, T_k, '-g')\n",
      "plot(lambdas, T_Opt, '-k')\n",
      "plot(lambdas, np.abs(phi), '-y')\n",
      "show()\n",
      "\n",
      "plt.pcolor(np.reshape(np.abs(PM_choice_out[:,indx_0])**2, pic_shape))\n",
      "show()\n",
      "\n",
      "plt.pcolor(np.reshape(np.abs(rand_out[:,indx_0])**2, pic_shape))\n",
      "show()\n",
      "\n",
      "plt.pcolor(np.reshape(np.abs(k_choice_out[:,indx_0])**2, pic_shape))\n",
      "show()\n",
      "\n",
      "plt.pcolor(np.reshape(np.abs(Opt_out[:,indx_0])**2, pic_shape))\n",
      "show()"
     ],
     "language": "python",
     "metadata": {},
     "outputs": [
      {
       "output_type": "stream",
       "stream": "stdout",
       "text": [
        "Calculating intensity correlations\n"
       ]
      },
      {
       "metadata": {},
       "output_type": "display_data",
       "png": "[encoded data removed]",
       "text": [
        "<matplotlib.figure.Figure at 0x456b5d0>"
       ]
      },
      {
       "output_type": "stream",
       "stream": "stdout",
       "text": [
        "Widths of correlation functions\n",
        "PM:    1.56274681802\n",
        "rand:  1.46777856223\n",
        "k:     1.67572116368\n",
        "Opt:   1.16320599796\n",
        "\n",
        "Calculating field correlations\n"
       ]
      },
      {
       "metadata": {},
       "output_type": "display_data",
       "png": "[encoded data removed]",
       "text": [
        "<matplotlib.figure.Figure at 0x3c31e10>"
       ]
      },
      {
       "output_type": "stream",
       "stream": "stdout",
       "text": [
        "Widths of correlation functions (abs)\n",
        "PM:    0.292523786886\n",
        "rand:  0.26482516594\n",
        "k:     0.29589640127\n",
        "Opt:   0.347720708708\n",
        "Env:   0.254558441227\n",
        "\n"
       ]
      },
      {
       "metadata": {},
       "output_type": "display_data",
       "png": "[encoded data removed]",
       "text": [
        "<matplotlib.figure.Figure at 0x4a0cfd0>"
       ]
      },
      {
       "output_type": "stream",
       "stream": "stdout",
       "text": [
        "Widths of correlation functions (abs^2)\n",
        "PM:    0.171971125791\n",
        "rand:  0.157331247112\n",
        "k:     0.175817833892\n",
        "Opt:   0.245906427185\n",
        "Env:   0.18\n",
        "\n",
        "Calculating transmissions\n"
       ]
      },
      {
       "metadata": {},
       "output_type": "display_data",
       "png": "[encoded data removed]",
       "text": [
        "<matplotlib.figure.Figure at 0x4562450>"
       ]
      },
      {
       "metadata": {},
       "output_type": "display_data",
       "png": "[encoded data removed]",
       "text": [
        "<matplotlib.figure.Figure at 0x3c500d0>"
       ]
      },
      {
       "metadata": {},
       "output_type": "display_data",
       "png": "[encoded data removed]",
       "text": [
        "<matplotlib.figure.Figure at 0x3f3c590>"
       ]
      },
      {
       "metadata": {},
       "output_type": "display_data",
       "png": "[encoded data removed]",
       "text": [
        "<matplotlib.figure.Figure at 0x4563a90>"
       ]
      },
      {
       "metadata": {},
       "output_type": "display_data",
       "png": "[encoded data removed]",
       "text": [
        "<matplotlib.figure.Figure at 0x3f4b690>"
       ]
      }
     ],
     "prompt_number": 75
    },
    {
     "cell_type": "code",
     "collapsed": false,
     "input": [
      "PM_t, PM_std_t, PM_corr, PM_std_corr = calc_autocorr(PM_choice_out, lambdas, phi)\n",
      "Opt_t, Opt_std_t, Opt_corr, Opt_std_corr = calc_autocorr(Opt_out, lambdas, phi)\n",
      "rand_t, rand_std_t, rand_corr, rand_std_corr = calc_autocorr(rand_out, lambdas, phi)\n",
      "k_t, k_std_t, k_corr, k_std_corr = calc_autocorr(k_choice_out, lambdas, phi)\n",
      "\n",
      "print \"Value of functional:\", np.sqrt(L(phat_min).real)\n",
      "print \"Width of pulse:     \", Opt_std_t\n",
      "\n",
      "plot(lambdas_FT, np.abs(PM_t)**2)\n",
      "plot(lambdas_FT, np.abs(Opt_t)**2)\n",
      "show()\n",
      "\n",
      "print \"Widths of pulses\"\n",
      "print \"PM:   \", PM_std_t\n",
      "print \"rand: \", rand_std_t\n",
      "print \"k:    \", k_std_t\n",
      "print \"Opt:  \", Opt_std_t\n",
      "print \n",
      "\n",
      "plot(lambdas, np.abs(PM_corr)**2, '-b')\n",
      "plot(lambdas, np.abs(Opt_corr)**2, '-k')\n",
      "plot(lambdas, np.abs(rand_corr)**2, '-r')\n",
      "plot(lambdas, np.abs(k_corr)**2, '-g')\n",
      "show()\n",
      "\n",
      "print \"Widths of correlation functions (pulse FT / autocorr directly)\"\n",
      "print \"PM:   \", PM_std_corr, \" / \", calc_std(np.abs(corr_PM), lambdas)\n",
      "print \"rand: \", rand_std_corr, \" / \", calc_std(np.abs(corr_rand), lambdas)\n",
      "print \"k:    \", k_std_corr, \" / \", calc_std(np.abs(corr_k), lambdas)\n",
      "print \"Opt:  \", Opt_std_corr, \" / \", calc_std(np.abs(corr_Opt), lambdas)\n",
      "print \"Env:  \", calc_std_field(np.abs(phi), lambdas_center)\n",
      "print \n",
      "\n",
      "plot(lambdas, np.abs(Opt_corr)**2/np.sum(np.abs(Opt_corr)**2), '-b')\n",
      "plot(lambdas, np.abs(corr_Opt)**2/np.sum(np.abs(corr_Opt)**2), '-r')\n",
      "show()"
     ],
     "language": "python",
     "metadata": {},
     "outputs": [
      {
       "output_type": "stream",
       "stream": "stdout",
       "text": [
        "Value of functional: 2.84070390513\n",
        "Width of pulse:      2.94122577589\n"
       ]
      },
      {
       "metadata": {},
       "output_type": "display_data",
       "png": "[encoded data removed]",
       "text": [
        "<matplotlib.figure.Figure at 0x45520d0>"
       ]
      },
      {
       "output_type": "stream",
       "stream": "stdout",
       "text": [
        "Widths of pulses\n",
        "PM:    4.57290857058\n",
        "rand:  4.76087712839\n",
        "k:     5.86146535305\n",
        "Opt:   2.94122577589\n",
        "\n"
       ]
      },
      {
       "metadata": {},
       "output_type": "display_data",
       "png": "[encoded data removed]",
       "text": [
        "<matplotlib.figure.Figure at 0x4553150>"
       ]
      },
      {
       "output_type": "stream",
       "stream": "stdout",
       "text": [
        "Widths of correlation functions (pulse FT / autocorr directly)\n",
        "PM:    0.292523786887  /  0.292523786879\n",
        "rand:  0.264825165949  /  0.264825165938\n",
        "k:     0.295896401264  /  0.295896401271\n",
        "Opt:   0.347720708711  /  0.347720708709\n",
        "Env:   0.18\n",
        "\n"
       ]
      },
      {
       "metadata": {},
       "output_type": "display_data",
       "png": "[encoded data removed]",
       "text": [
        "<matplotlib.figure.Figure at 0x3c252d0>"
       ]
      }
     ],
     "prompt_number": 76
    },
    {
     "cell_type": "heading",
     "level": 3,
     "metadata": {},
     "source": [
      "Inverse Participation Ratio"
     ]
    },
    {
     "cell_type": "code",
     "collapsed": false,
     "input": [
      "PM_choice_pack = np.einsum('xl,l->xl', PM_choice_out, phi)\n",
      "Opt_pack = np.einsum('xl,l->xl', Opt_out, phi)\n",
      "\n",
      "Pack_FT_PM = np.fft.fftshift(np.fft.fft(PM_choice_pack))\n",
      "Pack_FT_Opt = np.fft.fftshift(np.fft.fft(Opt_pack))\n",
      "\n",
      "Pulse_PM = np.einsum('xl,xl->l', Pack_FT_PM.conj(), Pack_FT_PM).real\n",
      "Pulse_Opt = np.einsum('xl,xl->l', Pack_FT_Opt.conj(), Pack_FT_Opt).real\n",
      "\n",
      "IPR_PM = np.sum(Pulse_PM)**2 / np.sum(Pulse_PM**2)\n",
      "IPR_Opt = np.sum(Pulse_Opt)**2 / np.sum(Pulse_Opt**2)\n",
      "\n",
      "\n",
      "plot(Pulse_PM/np.sum(Pulse_PM))\n",
      "plot(Pulse_Opt/np.sum(Pulse_Opt))\n",
      "\n",
      "print IPR_PM\n",
      "print IPR_Opt\n",
      "\n",
      "print calc_std(Pulse_PM, lambdas)\n",
      "print calc_std(Pulse_Opt, lambdas)"
     ],
     "language": "python",
     "metadata": {},
     "outputs": [
      {
       "output_type": "stream",
       "stream": "stdout",
       "text": [
        "15.0813705225\n",
        "9.81565155652\n",
        "0.174672240795\n",
        "0.112346549033\n"
       ]
      },
      {
       "metadata": {},
       "output_type": "display_data",
       "png": "[encoded data removed]",
       "text": [
        "<matplotlib.figure.Figure at 0x4541d90>"
       ]
      }
     ],
     "prompt_number": 77
    },
    {
     "cell_type": "code",
     "collapsed": false,
     "input": [
      "print \"Saving optimal input\"\n",
      "np.save(file_out+'_opt_input', phat_min) "
     ],
     "language": "python",
     "metadata": {},
     "outputs": [
      {
       "output_type": "stream",
       "stream": "stdout",
       "text": [
        "Saving optimal input\n"
       ]
      }
     ],
     "prompt_number": 78
    },
    {
     "cell_type": "code",
     "collapsed": false,
     "input": [
      "np.save(file_out + '_vec_output', (PM_choice_out, k_choice_out, Opt_out, rand_out))\n",
      "\n",
      "PM_pack_in = np.einsum('k,l->kl', PM_choice_in, phi)\n",
      "k_pack_in = np.einsum('k,l->kl', k_choice_in, phi)\n",
      "Opt_pack_in = np.einsum('k,l->kl', Opt_in, phi)\n",
      "rand_pack_in = np.einsum('k,l->kl', rand_in, phi)\n",
      "np.save(file_out + '_pack_input', (PM_pack_in, k_pack_in, Opt_pack_in, rand_pack_in))\n",
      "\n",
      "PM_pack_out = np.einsum('xl,l->xl', PM_choice_out, phi)\n",
      "k_pack_out = np.einsum('xl,l->xl', k_choice_out, phi)\n",
      "Opt_pack_out = np.einsum('xl,l->xl', Opt_out, phi)\n",
      "rand_pack_out = np.einsum('xl,l->xl', rand_out, phi)\n",
      "np.save(file_out + '_pack_output', (PM_pack_out, k_pack_out, Opt_pack_out, rand_pack_out))\n",
      "\n",
      "print \"Input long\"\n",
      "print eou.calc_long_spread(PM_pack_in, lambdas)**2\n",
      "print eou.calc_long_spread(k_pack_in, lambdas)**2\n",
      "print eou.calc_long_spread(Opt_pack_in, lambdas)**2\n",
      "print eou.calc_long_spread(rand_pack_in, lambdas)**2\n",
      "print\n",
      "\n",
      "print \"Output long\"\n",
      "print eou.calc_long_spread(PM_pack_out, lambdas)**2\n",
      "print eou.calc_long_spread(k_pack_out, lambdas)**2\n",
      "print eou.calc_long_spread(Opt_pack_out, lambdas)**2\n",
      "print eou.calc_long_spread(rand_pack_out, lambdas)**2\n",
      "print\n",
      "\n",
      "print \"Input long_FT\"\n",
      "print eou.calc_long_FT_spread(PM_pack_in, np.ones((N_k,)), lambdas)**2\n",
      "print eou.calc_long_FT_spread(k_pack_in, np.ones((N_k,)), lambdas)**2\n",
      "print eou.calc_long_FT_spread(Opt_pack_in, np.ones((N_k,)), lambdas)**2\n",
      "print eou.calc_long_FT_spread(rand_pack_in, np.ones((N_k,)), lambdas)**2\n",
      "print\n",
      "\n",
      "print \"Output long_FT\"\n",
      "print eou.calc_long_FT_spread(PM_pack_out, weights, lambdas)**2\n",
      "print eou.calc_long_FT_spread(k_pack_out, weights, lambdas)**2\n",
      "print eou.calc_long_FT_spread(Opt_pack_out, weights, lambdas)**2\n",
      "print eou.calc_long_FT_spread(rand_pack_out, weights, lambdas)**2\n",
      "print\n",
      "\n",
      "\n",
      "print \"Input trans\"\n",
      "print eou.calc_trans_spread(PM_pack_in, lambdas)**2\n",
      "print eou.calc_trans_spread(k_pack_in, lambdas)**2\n",
      "print eou.calc_trans_spread(Opt_pack_in, lambdas)**2\n",
      "print eou.calc_trans_spread(rand_pack_in, lambdas)**2\n",
      "print\n",
      "\n",
      "print \"Output trans\"\n",
      "print eou.calc_trans_spread(PM_pack_out, lambdas)**2\n",
      "print eou.calc_trans_spread(k_pack_out, lambdas)**2\n",
      "print eou.calc_trans_spread(Opt_pack_out, lambdas)**2\n",
      "print eou.calc_trans_spread(rand_pack_out, lambdas)**2\n",
      "print"
     ],
     "language": "python",
     "metadata": {},
     "outputs": [
      {
       "output_type": "stream",
       "stream": "stdout",
       "text": [
        "Input long\n",
        "(7.62156872973+0j)\n",
        "(7.62156872973+0j)\n",
        "(7.62156872973+0j)\n",
        "(7.62156872973+0j)\n",
        "\n",
        "Output long\n",
        "(215.811654591+0j)\n",
        "(227.663050603+0j)\n",
        "(232.942621478+0j)\n",
        "(232.036675213+0j)\n",
        "\n",
        "Input long_FT\n",
        "(3.90963648834+0j)\n",
        "(3.90963648834+0j)\n",
        "(3.90963648834+0j)\n",
        "(3.90963648834+0j)\n",
        "\n",
        "Output long_FT\n",
        "(9.99267363609+0j)\n",
        "(19.3064564855+0j)\n",
        "(4.18975108576+0j)\n",
        "(10.7987841181+0j)\n",
        "\n",
        "Input trans\n",
        "(0.0324000000001+0j)\n",
        "(0.0324000000037+0j)\n",
        "(0.0324000000028+0j)\n",
        "(0.0323999999864+0j)\n",
        "\n",
        "Output trans\n",
        "(0.0323999999882+0j)\n",
        "(0.0324000000019+0j)\n",
        "(0.0324000000028+0j)\n",
        "(0.0323999999946+0j)\n",
        "\n"
       ]
      }
     ],
     "prompt_number": 79
    },
    {
     "cell_type": "code",
     "collapsed": false,
     "input": [
      "pcolor(np.abs(q)**2)"
     ],
     "language": "python",
     "metadata": {},
     "outputs": [
      {
       "metadata": {},
       "output_type": "pyout",
       "prompt_number": 80,
       "text": [
        "<matplotlib.collections.PolyCollection at 0x3c34450>"
       ]
      },
      {
       "metadata": {},
       "output_type": "display_data",
       "png": "[encoded data removed]",
       "text": [
        "<matplotlib.figure.Figure at 0x3b863d0>"
       ]
      }
     ],
     "prompt_number": 80
    },
    {
     "cell_type": "code",
     "collapsed": false,
     "input": [],
     "language": "python",
     "metadata": {},
     "outputs": [],
     "prompt_number": 80
    },
    {
     "cell_type": "code",
     "collapsed": false,
     "input": [],
     "language": "python",
     "metadata": {},
     "outputs": [],
     "prompt_number": 80
    }
   ],
   "metadata": {}
  }
 ]
}