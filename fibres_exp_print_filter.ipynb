{
 "metadata": {
  "name": "",
  "signature": "sha256:54600001d7ab04ed2d305b7500aba7cf892a1bf5fa10fee98d196854634dd129"
 },
 "nbformat": 3,
 "nbformat_minor": 0,
 "worksheets": [
  {
   "cells": [
    {
     "cell_type": "code",
     "collapsed": false,
     "input": [
      "import numpy as np\n",
      "import data_process_utils as dpu\n",
      "import matplotlib.pyplot as plt\n",
      "\n",
      "%pylab inline"
     ],
     "language": "python",
     "metadata": {},
     "outputs": [
      {
       "output_type": "stream",
       "stream": "stdout",
       "text": [
        "Populating the interactive namespace from numpy and matplotlib\n"
       ]
      }
     ],
     "prompt_number": 13
    },
    {
     "cell_type": "code",
     "collapsed": false,
     "input": [
      "file_mat = '0923_126lambda_208k'"
     ],
     "language": "python",
     "metadata": {},
     "outputs": [],
     "prompt_number": 2
    },
    {
     "cell_type": "code",
     "collapsed": false,
     "input": [
      "lambdas = np.load(file_mat+'_wavelength.npy')\n",
      "N_l = np.shape(lambdas)[0]\n",
      "l_range = lambdas[-1] - lambdas[0]\n",
      "dl = lambdas[1] - lambdas[0]\n",
      "w = np.linspace(0.0, 2.0*np.pi/dl, N_l)\n",
      "w_range = w[-1] - w[0]\n",
      "dw = 2.0 * np.pi / l_range"
     ],
     "language": "python",
     "metadata": {},
     "outputs": [],
     "prompt_number": 4
    },
    {
     "cell_type": "code",
     "collapsed": false,
     "input": [
      "filter_params = (15.0 * 2.0 * np.pi / (2.0 * 1.2), w_range/300.0)\n",
      "print (\"Ratio of filter width to spectrum (amplitude): \",\n",
      "       2.0 * filter_params[0] / (w[-1] - w[0]))"
     ],
     "language": "python",
     "metadata": {},
     "outputs": [
      {
       "output_type": "stream",
       "stream": "stdout",
       "text": [
        "('Ratio of filter width to spectrum (amplitude): ', 0.24999999999977265)\n"
       ]
      }
     ],
     "prompt_number": 8
    },
    {
     "cell_type": "code",
     "collapsed": false,
     "input": [
      "def fermi_wrapper(x):\n",
      "    '''\n",
      "    Needed to vectorize function of more than one parameter.\n",
      "    '''\n",
      "    return dpu.fermi(x, filter_params)\n",
      "    \n",
      "fermi_vec = np.vectorize(fermi_wrapper)(w - np.mean(w))"
     ],
     "language": "python",
     "metadata": {},
     "outputs": [],
     "prompt_number": 11
    },
    {
     "cell_type": "code",
     "collapsed": false,
     "input": [
      "ylim(0.0,1.2)\n",
      "plot(fermi_vec, 'r', lw=2.0)"
     ],
     "language": "python",
     "metadata": {},
     "outputs": [
      {
       "metadata": {},
       "output_type": "pyout",
       "prompt_number": 17,
       "text": [
        "[<matplotlib.lines.Line2D at 0x112ce7050>]"
       ]
      },
      {
       "metadata": {},
       "output_type": "display_data",
       "png": "[encoded data removed]",
       "text": [
        "<matplotlib.figure.Figure at 0x112c15ed0>"
       ]
      }
     ],
     "prompt_number": 17
    },
    {
     "cell_type": "code",
     "collapsed": false,
     "input": [],
     "language": "python",
     "metadata": {},
     "outputs": []
    }
   ],
   "metadata": {}
  }
 ]
}